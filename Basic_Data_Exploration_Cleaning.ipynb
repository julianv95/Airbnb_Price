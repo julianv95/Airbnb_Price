{
 "cells": [
  {
   "cell_type": "markdown",
   "metadata": {},
   "source": [
    "# Berlin Airbnb Data Exploration and Pre-Processing"
   ]
  },
  {
   "cell_type": "markdown",
   "metadata": {},
   "source": [
    "### Context\n",
    "Airbnb has successfully disrupted the traditional hospitality industry as more and more travelers decide to use Airbnb as their primary accommodation provider. Since its beginning in 2008, Airbnb has seen an enormous growth, with the number of rentals listed on its website growing exponentially each year. In Germany, no city is more popular than Berlin. That implies that Berlin is one of the hottest markets for Airbnb in Europe, with over 22,552 listings as of November 2018."
   ]
  },
  {
   "cell_type": "markdown",
   "metadata": {},
   "source": [
    "### Motivation"
   ]
  },
  {
   "cell_type": "markdown",
   "metadata": {},
   "source": [
    "Airbnb is a internet marketplace for short-term home and apartment rentals. One of the main challanges Airbnb-Hosts face is determining the optimal nightly rent price. Like in any competitive rental-market even small differences in prices can make the difference between optimum occupancy and high earnings, or being priced out of the market.\n",
    "\n",
    "\n",
    "This Project aims to use machine learning to predict the base price for properties in Berlin, and also to explore the influence of spatial proximity to certain amenities (restaurants, bars, supermarkets), sights and urban green spaces.\n"
   ]
  },
  {
   "cell_type": "markdown",
   "metadata": {},
   "source": [
    "### The Data"
   ]
  },
  {
   "cell_type": "markdown",
   "metadata": {},
   "source": [
    "The dataset used for this project was scraped on November 07th, 2018 and contains detailed listings and review data  of current Airbnb listings in Berlin and can be found [here](https://www.kaggle.com/brittabettendorf/berlin-airbnb-data). In order to use this data set as a basis for a machine learning algorithm, some more data cleaning is necessary. This notebook documents all of the cleaning and pre-processing. <br />\n",
    "\n",
    "Note: This Notebook is based on [Graciela Carrillos](https://towardsdatascience.com/predicting-airbnb-prices-with-machine-learning-and-location-data-5c1e033d0a5a) price predicting approach. He used an OSM pedestrian network to explore the influance of spatial proximity to bars and restaurants on airbnb prices in Edingburgh. \n",
    "We will be using a multi-modal-graph network for our location attributes. This way we are meassuring accessebilty in terms of the whole transport network and not only in terms of walkability like he did. By using the same attributes it is possible to compare the to studies (although not optimal, since we use different cities).\n",
    " \n",
    "\n"
   ]
  },
  {
   "cell_type": "code",
   "execution_count": 223,
   "metadata": {},
   "outputs": [],
   "source": [
    "# Import all important Modules\n",
    "# Importing required libraries\n",
    "import pandas as pd\n",
    "import numpy as np\n",
    "from numpy.random import seed\n",
    "seed(123)\n",
    "import matplotlib.pyplot as plt\n",
    "%matplotlib inline\n",
    "from datetime import datetime\n",
    "import seaborn as sns\n",
    "import geopandas as gpd\n",
    "import time\n",
    "from collections import Counter"
   ]
  },
  {
   "cell_type": "code",
   "execution_count": 224,
   "metadata": {},
   "outputs": [
    {
     "name": "stdout",
     "output_type": "stream",
     "text": [
      "The dataset contains 22552 Airbnb listings\n"
     ]
    },
    {
     "data": {
      "text/html": [
       "<div>\n",
       "<style scoped>\n",
       "    .dataframe tbody tr th:only-of-type {\n",
       "        vertical-align: middle;\n",
       "    }\n",
       "\n",
       "    .dataframe tbody tr th {\n",
       "        vertical-align: top;\n",
       "    }\n",
       "\n",
       "    .dataframe thead th {\n",
       "        text-align: right;\n",
       "    }\n",
       "</style>\n",
       "<table border=\"1\" class=\"dataframe\">\n",
       "  <thead>\n",
       "    <tr style=\"text-align: right;\">\n",
       "      <th></th>\n",
       "      <th>id</th>\n",
       "      <th>listing_url</th>\n",
       "      <th>scrape_id</th>\n",
       "      <th>last_scraped</th>\n",
       "      <th>name</th>\n",
       "      <th>summary</th>\n",
       "      <th>space</th>\n",
       "      <th>description</th>\n",
       "      <th>experiences_offered</th>\n",
       "      <th>neighborhood_overview</th>\n",
       "      <th>notes</th>\n",
       "      <th>transit</th>\n",
       "      <th>access</th>\n",
       "      <th>interaction</th>\n",
       "      <th>house_rules</th>\n",
       "      <th>thumbnail_url</th>\n",
       "      <th>medium_url</th>\n",
       "      <th>picture_url</th>\n",
       "      <th>xl_picture_url</th>\n",
       "      <th>host_id</th>\n",
       "      <th>host_url</th>\n",
       "      <th>host_name</th>\n",
       "      <th>host_since</th>\n",
       "      <th>host_location</th>\n",
       "      <th>host_about</th>\n",
       "      <th>host_response_time</th>\n",
       "      <th>host_response_rate</th>\n",
       "      <th>host_acceptance_rate</th>\n",
       "      <th>host_is_superhost</th>\n",
       "      <th>host_thumbnail_url</th>\n",
       "      <th>host_picture_url</th>\n",
       "      <th>host_neighbourhood</th>\n",
       "      <th>host_listings_count</th>\n",
       "      <th>host_total_listings_count</th>\n",
       "      <th>host_verifications</th>\n",
       "      <th>host_has_profile_pic</th>\n",
       "      <th>host_identity_verified</th>\n",
       "      <th>street</th>\n",
       "      <th>neighbourhood</th>\n",
       "      <th>neighbourhood_cleansed</th>\n",
       "      <th>neighbourhood_group_cleansed</th>\n",
       "      <th>city</th>\n",
       "      <th>state</th>\n",
       "      <th>zipcode</th>\n",
       "      <th>market</th>\n",
       "      <th>smart_location</th>\n",
       "      <th>country_code</th>\n",
       "      <th>country</th>\n",
       "      <th>latitude</th>\n",
       "      <th>longitude</th>\n",
       "      <th>is_location_exact</th>\n",
       "      <th>property_type</th>\n",
       "      <th>room_type</th>\n",
       "      <th>accommodates</th>\n",
       "      <th>bathrooms</th>\n",
       "      <th>bedrooms</th>\n",
       "      <th>beds</th>\n",
       "      <th>bed_type</th>\n",
       "      <th>amenities</th>\n",
       "      <th>square_feet</th>\n",
       "      <th>price</th>\n",
       "      <th>weekly_price</th>\n",
       "      <th>monthly_price</th>\n",
       "      <th>security_deposit</th>\n",
       "      <th>cleaning_fee</th>\n",
       "      <th>guests_included</th>\n",
       "      <th>extra_people</th>\n",
       "      <th>minimum_nights</th>\n",
       "      <th>maximum_nights</th>\n",
       "      <th>calendar_updated</th>\n",
       "      <th>has_availability</th>\n",
       "      <th>availability_30</th>\n",
       "      <th>availability_60</th>\n",
       "      <th>availability_90</th>\n",
       "      <th>availability_365</th>\n",
       "      <th>calendar_last_scraped</th>\n",
       "      <th>number_of_reviews</th>\n",
       "      <th>first_review</th>\n",
       "      <th>last_review</th>\n",
       "      <th>review_scores_rating</th>\n",
       "      <th>review_scores_accuracy</th>\n",
       "      <th>review_scores_cleanliness</th>\n",
       "      <th>review_scores_checkin</th>\n",
       "      <th>review_scores_communication</th>\n",
       "      <th>review_scores_location</th>\n",
       "      <th>review_scores_value</th>\n",
       "      <th>requires_license</th>\n",
       "      <th>license</th>\n",
       "      <th>jurisdiction_names</th>\n",
       "      <th>instant_bookable</th>\n",
       "      <th>is_business_travel_ready</th>\n",
       "      <th>cancellation_policy</th>\n",
       "      <th>require_guest_profile_picture</th>\n",
       "      <th>require_guest_phone_verification</th>\n",
       "      <th>calculated_host_listings_count</th>\n",
       "      <th>reviews_per_month</th>\n",
       "    </tr>\n",
       "  </thead>\n",
       "  <tbody>\n",
       "    <tr>\n",
       "      <th>0</th>\n",
       "      <td>2015</td>\n",
       "      <td>https://www.airbnb.com/rooms/2015</td>\n",
       "      <td>20181107122246</td>\n",
       "      <td>2018-11-07</td>\n",
       "      <td>Berlin-Mitte Value! Quiet courtyard/very central</td>\n",
       "      <td>Great location!  30 of 75 sq meters. This wood...</td>\n",
       "      <td>A+++ location! This „Einliegerwohnung“ is an e...</td>\n",
       "      <td>Great location!  30 of 75 sq meters. This wood...</td>\n",
       "      <td>none</td>\n",
       "      <td>It is located in the former East Berlin area o...</td>\n",
       "      <td>This is my home, not a hotel. I rent out occas...</td>\n",
       "      <td>Close to U-Bahn U8 and U2 (metro), Trams M12, ...</td>\n",
       "      <td>Simple kitchen/cooking, refrigerator, microwav...</td>\n",
       "      <td>Always available</td>\n",
       "      <td>No parties No events No pets No smoking, not e...</td>\n",
       "      <td>NaN</td>\n",
       "      <td>NaN</td>\n",
       "      <td>https://a0.muscache.com/im/pictures/260fd609-7...</td>\n",
       "      <td>NaN</td>\n",
       "      <td>2217</td>\n",
       "      <td>https://www.airbnb.com/users/show/2217</td>\n",
       "      <td>Ian</td>\n",
       "      <td>2008-08-18</td>\n",
       "      <td>Key Biscayne, Florida, United States</td>\n",
       "      <td>Believe in sharing economy.</td>\n",
       "      <td>within an hour</td>\n",
       "      <td>96%</td>\n",
       "      <td>NaN</td>\n",
       "      <td>t</td>\n",
       "      <td>https://a0.muscache.com/im/pictures/21428a22-4...</td>\n",
       "      <td>https://a0.muscache.com/im/pictures/21428a22-4...</td>\n",
       "      <td>Mitte</td>\n",
       "      <td>4.0</td>\n",
       "      <td>4.0</td>\n",
       "      <td>['email', 'phone', 'reviews', 'jumio', 'offlin...</td>\n",
       "      <td>t</td>\n",
       "      <td>t</td>\n",
       "      <td>Berlin, Berlin, Germany</td>\n",
       "      <td>Mitte</td>\n",
       "      <td>Brunnenstr. Süd</td>\n",
       "      <td>Mitte</td>\n",
       "      <td>Berlin</td>\n",
       "      <td>Berlin</td>\n",
       "      <td>10119</td>\n",
       "      <td>Berlin</td>\n",
       "      <td>Berlin, Germany</td>\n",
       "      <td>DE</td>\n",
       "      <td>Germany</td>\n",
       "      <td>52.534537</td>\n",
       "      <td>13.402557</td>\n",
       "      <td>f</td>\n",
       "      <td>Guesthouse</td>\n",
       "      <td>Entire home/apt</td>\n",
       "      <td>3</td>\n",
       "      <td>1.0</td>\n",
       "      <td>1.0</td>\n",
       "      <td>2.0</td>\n",
       "      <td>Real Bed</td>\n",
       "      <td>{TV,\"Cable TV\",Wifi,Kitchen,Gym,Heating,\"Famil...</td>\n",
       "      <td>NaN</td>\n",
       "      <td>$60.00</td>\n",
       "      <td>NaN</td>\n",
       "      <td>NaN</td>\n",
       "      <td>$200.00</td>\n",
       "      <td>$30.00</td>\n",
       "      <td>1</td>\n",
       "      <td>$28.00</td>\n",
       "      <td>4</td>\n",
       "      <td>1125</td>\n",
       "      <td>3 months ago</td>\n",
       "      <td>t</td>\n",
       "      <td>0</td>\n",
       "      <td>21</td>\n",
       "      <td>51</td>\n",
       "      <td>141</td>\n",
       "      <td>2018-11-07</td>\n",
       "      <td>118</td>\n",
       "      <td>2016-04-11</td>\n",
       "      <td>2018-10-28</td>\n",
       "      <td>93.0</td>\n",
       "      <td>10.0</td>\n",
       "      <td>9.0</td>\n",
       "      <td>10.0</td>\n",
       "      <td>10.0</td>\n",
       "      <td>10.0</td>\n",
       "      <td>9.0</td>\n",
       "      <td>t</td>\n",
       "      <td>NaN</td>\n",
       "      <td>NaN</td>\n",
       "      <td>f</td>\n",
       "      <td>f</td>\n",
       "      <td>strict_14_with_grace_period</td>\n",
       "      <td>f</td>\n",
       "      <td>f</td>\n",
       "      <td>4</td>\n",
       "      <td>3.76</td>\n",
       "    </tr>\n",
       "    <tr>\n",
       "      <th>1</th>\n",
       "      <td>2695</td>\n",
       "      <td>https://www.airbnb.com/rooms/2695</td>\n",
       "      <td>20181107122246</td>\n",
       "      <td>2018-11-07</td>\n",
       "      <td>Prenzlauer Berg close to Mauerpark</td>\n",
       "      <td>NaN</td>\n",
       "      <td>In the summertime we are spending most of our ...</td>\n",
       "      <td>In the summertime we are spending most of our ...</td>\n",
       "      <td>none</td>\n",
       "      <td>NaN</td>\n",
       "      <td>NaN</td>\n",
       "      <td>Within walking distance you'll find the S-Bahn...</td>\n",
       "      <td>Außer deinem Zimmer kannst du noch die Küche u...</td>\n",
       "      <td>NaN</td>\n",
       "      <td>NaN</td>\n",
       "      <td>NaN</td>\n",
       "      <td>NaN</td>\n",
       "      <td>https://a0.muscache.com/im/pictures/97d4f6e8-1...</td>\n",
       "      <td>NaN</td>\n",
       "      <td>2986</td>\n",
       "      <td>https://www.airbnb.com/users/show/2986</td>\n",
       "      <td>Michael</td>\n",
       "      <td>2008-09-16</td>\n",
       "      <td>Berlin, Berlin, Germany</td>\n",
       "      <td>Living with my wife in Berlin.  Like travellin...</td>\n",
       "      <td>NaN</td>\n",
       "      <td>NaN</td>\n",
       "      <td>NaN</td>\n",
       "      <td>f</td>\n",
       "      <td>https://a0.muscache.com/im/pictures/50434955-1...</td>\n",
       "      <td>https://a0.muscache.com/im/pictures/50434955-1...</td>\n",
       "      <td>Prenzlauer Berg</td>\n",
       "      <td>1.0</td>\n",
       "      <td>1.0</td>\n",
       "      <td>['email', 'phone', 'reviews', 'jumio', 'govern...</td>\n",
       "      <td>t</td>\n",
       "      <td>t</td>\n",
       "      <td>Berlin, Berlin, Germany</td>\n",
       "      <td>NaN</td>\n",
       "      <td>Prenzlauer Berg Nordwest</td>\n",
       "      <td>Pankow</td>\n",
       "      <td>Berlin</td>\n",
       "      <td>Berlin</td>\n",
       "      <td>10437</td>\n",
       "      <td>Berlin</td>\n",
       "      <td>Berlin, Germany</td>\n",
       "      <td>DE</td>\n",
       "      <td>Germany</td>\n",
       "      <td>52.548513</td>\n",
       "      <td>13.404553</td>\n",
       "      <td>t</td>\n",
       "      <td>Apartment</td>\n",
       "      <td>Private room</td>\n",
       "      <td>2</td>\n",
       "      <td>1.0</td>\n",
       "      <td>1.0</td>\n",
       "      <td>1.0</td>\n",
       "      <td>Real Bed</td>\n",
       "      <td>{Wifi,Kitchen,Elevator,Heating,Washer,Essentia...</td>\n",
       "      <td>NaN</td>\n",
       "      <td>$17.00</td>\n",
       "      <td>NaN</td>\n",
       "      <td>NaN</td>\n",
       "      <td>$0.00</td>\n",
       "      <td>$0.00</td>\n",
       "      <td>1</td>\n",
       "      <td>$0.00</td>\n",
       "      <td>2</td>\n",
       "      <td>40</td>\n",
       "      <td>7 weeks ago</td>\n",
       "      <td>t</td>\n",
       "      <td>0</td>\n",
       "      <td>0</td>\n",
       "      <td>0</td>\n",
       "      <td>0</td>\n",
       "      <td>2018-11-07</td>\n",
       "      <td>6</td>\n",
       "      <td>2018-07-04</td>\n",
       "      <td>2018-10-01</td>\n",
       "      <td>100.0</td>\n",
       "      <td>10.0</td>\n",
       "      <td>10.0</td>\n",
       "      <td>10.0</td>\n",
       "      <td>10.0</td>\n",
       "      <td>10.0</td>\n",
       "      <td>10.0</td>\n",
       "      <td>t</td>\n",
       "      <td>NaN</td>\n",
       "      <td>NaN</td>\n",
       "      <td>f</td>\n",
       "      <td>f</td>\n",
       "      <td>flexible</td>\n",
       "      <td>f</td>\n",
       "      <td>f</td>\n",
       "      <td>1</td>\n",
       "      <td>1.42</td>\n",
       "    </tr>\n",
       "    <tr>\n",
       "      <th>2</th>\n",
       "      <td>3176</td>\n",
       "      <td>https://www.airbnb.com/rooms/3176</td>\n",
       "      <td>20181107122246</td>\n",
       "      <td>2018-11-07</td>\n",
       "      <td>Fabulous Flat in great Location</td>\n",
       "      <td>This beautiful first floor apartment  is situa...</td>\n",
       "      <td>1st floor (68m2) apartment on Kollwitzplatz/ P...</td>\n",
       "      <td>This beautiful first floor apartment  is situa...</td>\n",
       "      <td>none</td>\n",
       "      <td>The neighbourhood is famous for its variety of...</td>\n",
       "      <td>We welcome FAMILIES and cater especially for y...</td>\n",
       "      <td>We are 5 min walk  away from the tram M2, whic...</td>\n",
       "      <td>The apartment will be entirely yours. We are c...</td>\n",
       "      <td>Feel free to ask any questions prior to bookin...</td>\n",
       "      <td>It’s a non smoking flat, which likes to be tre...</td>\n",
       "      <td>NaN</td>\n",
       "      <td>NaN</td>\n",
       "      <td>https://a0.muscache.com/im/pictures/243355/84a...</td>\n",
       "      <td>NaN</td>\n",
       "      <td>3718</td>\n",
       "      <td>https://www.airbnb.com/users/show/3718</td>\n",
       "      <td>Britta</td>\n",
       "      <td>2008-10-19</td>\n",
       "      <td>Coledale, New South Wales, Australia</td>\n",
       "      <td>We love to travel ourselves a lot and prefer t...</td>\n",
       "      <td>within a day</td>\n",
       "      <td>100%</td>\n",
       "      <td>NaN</td>\n",
       "      <td>f</td>\n",
       "      <td>https://a0.muscache.com/im/users/3718/profile_...</td>\n",
       "      <td>https://a0.muscache.com/im/users/3718/profile_...</td>\n",
       "      <td>Prenzlauer Berg</td>\n",
       "      <td>1.0</td>\n",
       "      <td>1.0</td>\n",
       "      <td>['email', 'phone', 'facebook', 'reviews', 'man...</td>\n",
       "      <td>t</td>\n",
       "      <td>t</td>\n",
       "      <td>Berlin, Berlin, Germany</td>\n",
       "      <td>Prenzlauer Berg</td>\n",
       "      <td>Prenzlauer Berg Südwest</td>\n",
       "      <td>Pankow</td>\n",
       "      <td>Berlin</td>\n",
       "      <td>Berlin</td>\n",
       "      <td>10405</td>\n",
       "      <td>Berlin</td>\n",
       "      <td>Berlin, Germany</td>\n",
       "      <td>DE</td>\n",
       "      <td>Germany</td>\n",
       "      <td>52.534996</td>\n",
       "      <td>13.417579</td>\n",
       "      <td>t</td>\n",
       "      <td>Apartment</td>\n",
       "      <td>Entire home/apt</td>\n",
       "      <td>4</td>\n",
       "      <td>1.0</td>\n",
       "      <td>1.0</td>\n",
       "      <td>2.0</td>\n",
       "      <td>Real Bed</td>\n",
       "      <td>{Internet,Wifi,Kitchen,\"Buzzer/wireless interc...</td>\n",
       "      <td>720.0</td>\n",
       "      <td>$90.00</td>\n",
       "      <td>$520.00</td>\n",
       "      <td>$1,900.00</td>\n",
       "      <td>$200.00</td>\n",
       "      <td>$50.00</td>\n",
       "      <td>2</td>\n",
       "      <td>$20.00</td>\n",
       "      <td>62</td>\n",
       "      <td>1125</td>\n",
       "      <td>a week ago</td>\n",
       "      <td>t</td>\n",
       "      <td>0</td>\n",
       "      <td>0</td>\n",
       "      <td>0</td>\n",
       "      <td>220</td>\n",
       "      <td>2018-11-07</td>\n",
       "      <td>143</td>\n",
       "      <td>2009-06-20</td>\n",
       "      <td>2017-03-20</td>\n",
       "      <td>92.0</td>\n",
       "      <td>9.0</td>\n",
       "      <td>9.0</td>\n",
       "      <td>9.0</td>\n",
       "      <td>9.0</td>\n",
       "      <td>10.0</td>\n",
       "      <td>9.0</td>\n",
       "      <td>t</td>\n",
       "      <td>NaN</td>\n",
       "      <td>NaN</td>\n",
       "      <td>t</td>\n",
       "      <td>f</td>\n",
       "      <td>strict_14_with_grace_period</td>\n",
       "      <td>f</td>\n",
       "      <td>f</td>\n",
       "      <td>1</td>\n",
       "      <td>1.25</td>\n",
       "    </tr>\n",
       "  </tbody>\n",
       "</table>\n",
       "</div>"
      ],
      "text/plain": [
       "     id                        listing_url       scrape_id last_scraped  \\\n",
       "0  2015  https://www.airbnb.com/rooms/2015  20181107122246   2018-11-07   \n",
       "1  2695  https://www.airbnb.com/rooms/2695  20181107122246   2018-11-07   \n",
       "2  3176  https://www.airbnb.com/rooms/3176  20181107122246   2018-11-07   \n",
       "\n",
       "                                               name  \\\n",
       "0  Berlin-Mitte Value! Quiet courtyard/very central   \n",
       "1                Prenzlauer Berg close to Mauerpark   \n",
       "2                   Fabulous Flat in great Location   \n",
       "\n",
       "                                             summary  \\\n",
       "0  Great location!  30 of 75 sq meters. This wood...   \n",
       "1                                                NaN   \n",
       "2  This beautiful first floor apartment  is situa...   \n",
       "\n",
       "                                               space  \\\n",
       "0  A+++ location! This „Einliegerwohnung“ is an e...   \n",
       "1  In the summertime we are spending most of our ...   \n",
       "2  1st floor (68m2) apartment on Kollwitzplatz/ P...   \n",
       "\n",
       "                                         description experiences_offered  \\\n",
       "0  Great location!  30 of 75 sq meters. This wood...                none   \n",
       "1  In the summertime we are spending most of our ...                none   \n",
       "2  This beautiful first floor apartment  is situa...                none   \n",
       "\n",
       "                               neighborhood_overview  \\\n",
       "0  It is located in the former East Berlin area o...   \n",
       "1                                                NaN   \n",
       "2  The neighbourhood is famous for its variety of...   \n",
       "\n",
       "                                               notes  \\\n",
       "0  This is my home, not a hotel. I rent out occas...   \n",
       "1                                                NaN   \n",
       "2  We welcome FAMILIES and cater especially for y...   \n",
       "\n",
       "                                             transit  \\\n",
       "0  Close to U-Bahn U8 and U2 (metro), Trams M12, ...   \n",
       "1  Within walking distance you'll find the S-Bahn...   \n",
       "2  We are 5 min walk  away from the tram M2, whic...   \n",
       "\n",
       "                                              access  \\\n",
       "0  Simple kitchen/cooking, refrigerator, microwav...   \n",
       "1  Außer deinem Zimmer kannst du noch die Küche u...   \n",
       "2  The apartment will be entirely yours. We are c...   \n",
       "\n",
       "                                         interaction  \\\n",
       "0                                   Always available   \n",
       "1                                                NaN   \n",
       "2  Feel free to ask any questions prior to bookin...   \n",
       "\n",
       "                                         house_rules  thumbnail_url  \\\n",
       "0  No parties No events No pets No smoking, not e...            NaN   \n",
       "1                                                NaN            NaN   \n",
       "2  It’s a non smoking flat, which likes to be tre...            NaN   \n",
       "\n",
       "   medium_url                                        picture_url  \\\n",
       "0         NaN  https://a0.muscache.com/im/pictures/260fd609-7...   \n",
       "1         NaN  https://a0.muscache.com/im/pictures/97d4f6e8-1...   \n",
       "2         NaN  https://a0.muscache.com/im/pictures/243355/84a...   \n",
       "\n",
       "   xl_picture_url  host_id                                host_url host_name  \\\n",
       "0             NaN     2217  https://www.airbnb.com/users/show/2217       Ian   \n",
       "1             NaN     2986  https://www.airbnb.com/users/show/2986   Michael   \n",
       "2             NaN     3718  https://www.airbnb.com/users/show/3718    Britta   \n",
       "\n",
       "   host_since                         host_location  \\\n",
       "0  2008-08-18  Key Biscayne, Florida, United States   \n",
       "1  2008-09-16               Berlin, Berlin, Germany   \n",
       "2  2008-10-19  Coledale, New South Wales, Australia   \n",
       "\n",
       "                                          host_about host_response_time  \\\n",
       "0                        Believe in sharing economy.     within an hour   \n",
       "1  Living with my wife in Berlin.  Like travellin...                NaN   \n",
       "2  We love to travel ourselves a lot and prefer t...       within a day   \n",
       "\n",
       "  host_response_rate  host_acceptance_rate host_is_superhost  \\\n",
       "0                96%                   NaN                 t   \n",
       "1                NaN                   NaN                 f   \n",
       "2               100%                   NaN                 f   \n",
       "\n",
       "                                  host_thumbnail_url  \\\n",
       "0  https://a0.muscache.com/im/pictures/21428a22-4...   \n",
       "1  https://a0.muscache.com/im/pictures/50434955-1...   \n",
       "2  https://a0.muscache.com/im/users/3718/profile_...   \n",
       "\n",
       "                                    host_picture_url host_neighbourhood  \\\n",
       "0  https://a0.muscache.com/im/pictures/21428a22-4...              Mitte   \n",
       "1  https://a0.muscache.com/im/pictures/50434955-1...    Prenzlauer Berg   \n",
       "2  https://a0.muscache.com/im/users/3718/profile_...    Prenzlauer Berg   \n",
       "\n",
       "   host_listings_count  host_total_listings_count  \\\n",
       "0                  4.0                        4.0   \n",
       "1                  1.0                        1.0   \n",
       "2                  1.0                        1.0   \n",
       "\n",
       "                                  host_verifications host_has_profile_pic  \\\n",
       "0  ['email', 'phone', 'reviews', 'jumio', 'offlin...                    t   \n",
       "1  ['email', 'phone', 'reviews', 'jumio', 'govern...                    t   \n",
       "2  ['email', 'phone', 'facebook', 'reviews', 'man...                    t   \n",
       "\n",
       "  host_identity_verified                   street    neighbourhood  \\\n",
       "0                      t  Berlin, Berlin, Germany            Mitte   \n",
       "1                      t  Berlin, Berlin, Germany              NaN   \n",
       "2                      t  Berlin, Berlin, Germany  Prenzlauer Berg   \n",
       "\n",
       "     neighbourhood_cleansed neighbourhood_group_cleansed    city   state  \\\n",
       "0           Brunnenstr. Süd                        Mitte  Berlin  Berlin   \n",
       "1  Prenzlauer Berg Nordwest                       Pankow  Berlin  Berlin   \n",
       "2   Prenzlauer Berg Südwest                       Pankow  Berlin  Berlin   \n",
       "\n",
       "  zipcode  market   smart_location country_code  country   latitude  \\\n",
       "0   10119  Berlin  Berlin, Germany           DE  Germany  52.534537   \n",
       "1   10437  Berlin  Berlin, Germany           DE  Germany  52.548513   \n",
       "2   10405  Berlin  Berlin, Germany           DE  Germany  52.534996   \n",
       "\n",
       "   longitude is_location_exact property_type        room_type  accommodates  \\\n",
       "0  13.402557                 f    Guesthouse  Entire home/apt             3   \n",
       "1  13.404553                 t     Apartment     Private room             2   \n",
       "2  13.417579                 t     Apartment  Entire home/apt             4   \n",
       "\n",
       "   bathrooms  bedrooms  beds  bed_type  \\\n",
       "0        1.0       1.0   2.0  Real Bed   \n",
       "1        1.0       1.0   1.0  Real Bed   \n",
       "2        1.0       1.0   2.0  Real Bed   \n",
       "\n",
       "                                           amenities  square_feet   price  \\\n",
       "0  {TV,\"Cable TV\",Wifi,Kitchen,Gym,Heating,\"Famil...          NaN  $60.00   \n",
       "1  {Wifi,Kitchen,Elevator,Heating,Washer,Essentia...          NaN  $17.00   \n",
       "2  {Internet,Wifi,Kitchen,\"Buzzer/wireless interc...        720.0  $90.00   \n",
       "\n",
       "  weekly_price monthly_price security_deposit cleaning_fee  guests_included  \\\n",
       "0          NaN           NaN          $200.00       $30.00                1   \n",
       "1          NaN           NaN            $0.00        $0.00                1   \n",
       "2      $520.00     $1,900.00          $200.00       $50.00                2   \n",
       "\n",
       "  extra_people  minimum_nights  maximum_nights calendar_updated  \\\n",
       "0       $28.00               4            1125     3 months ago   \n",
       "1        $0.00               2              40      7 weeks ago   \n",
       "2       $20.00              62            1125       a week ago   \n",
       "\n",
       "  has_availability  availability_30  availability_60  availability_90  \\\n",
       "0                t                0               21               51   \n",
       "1                t                0                0                0   \n",
       "2                t                0                0                0   \n",
       "\n",
       "   availability_365 calendar_last_scraped  number_of_reviews first_review  \\\n",
       "0               141            2018-11-07                118   2016-04-11   \n",
       "1                 0            2018-11-07                  6   2018-07-04   \n",
       "2               220            2018-11-07                143   2009-06-20   \n",
       "\n",
       "  last_review  review_scores_rating  review_scores_accuracy  \\\n",
       "0  2018-10-28                  93.0                    10.0   \n",
       "1  2018-10-01                 100.0                    10.0   \n",
       "2  2017-03-20                  92.0                     9.0   \n",
       "\n",
       "   review_scores_cleanliness  review_scores_checkin  \\\n",
       "0                        9.0                   10.0   \n",
       "1                       10.0                   10.0   \n",
       "2                        9.0                    9.0   \n",
       "\n",
       "   review_scores_communication  review_scores_location  review_scores_value  \\\n",
       "0                         10.0                    10.0                  9.0   \n",
       "1                         10.0                    10.0                 10.0   \n",
       "2                          9.0                    10.0                  9.0   \n",
       "\n",
       "  requires_license license  jurisdiction_names instant_bookable  \\\n",
       "0                t     NaN                 NaN                f   \n",
       "1                t     NaN                 NaN                f   \n",
       "2                t     NaN                 NaN                t   \n",
       "\n",
       "  is_business_travel_ready          cancellation_policy  \\\n",
       "0                        f  strict_14_with_grace_period   \n",
       "1                        f                     flexible   \n",
       "2                        f  strict_14_with_grace_period   \n",
       "\n",
       "  require_guest_profile_picture require_guest_phone_verification  \\\n",
       "0                             f                                f   \n",
       "1                             f                                f   \n",
       "2                             f                                f   \n",
       "\n",
       "   calculated_host_listings_count  reviews_per_month  \n",
       "0                               4               3.76  \n",
       "1                               1               1.42  \n",
       "2                               1               1.25  "
      ]
     },
     "execution_count": 224,
     "metadata": {},
     "output_type": "execute_result"
    }
   ],
   "source": [
    "raw_df = pd.read_csv(r'./berlin-airbnb-data/listings_summary.csv')\n",
    "print(f\"The dataset contains {len(raw_df)} Airbnb listings\")\n",
    "pd.set_option('display.max_columns', len(raw_df.columns)) # To view all columns\n",
    "pd.set_option('display.max_rows', 100)\n",
    "raw_df.head(3)"
   ]
  },
  {
   "cell_type": "markdown",
   "metadata": {},
   "source": [
    "### Drop initial columns"
   ]
  },
  {
   "cell_type": "markdown",
   "metadata": {},
   "source": [
    "Natrual Language Processing will not be used in this model. Therefore free text columns will be dropped."
   ]
  },
  {
   "cell_type": "code",
   "execution_count": 225,
   "metadata": {},
   "outputs": [],
   "source": [
    "cols_to_drop = ['listing_url', 'scrape_id', 'last_scraped', 'name', 'summary', 'space', 'description', 'neighborhood_overview', 'notes', 'transit', 'access', 'interaction', 'house_rules', 'thumbnail_url', 'medium_url', 'picture_url', 'xl_picture_url', 'host_id', 'host_url', 'host_name', 'host_location', 'host_about', 'host_thumbnail_url', 'host_picture_url', 'host_neighbourhood', 'host_verifications', 'calendar_last_scraped']\n",
    "df = raw_df.drop(cols_to_drop, axis=1)"
   ]
  },
  {
   "cell_type": "markdown",
   "metadata": {},
   "source": [
    "Check for emptiness"
   ]
  },
  {
   "cell_type": "code",
   "execution_count": 226,
   "metadata": {},
   "outputs": [
    {
     "data": {
      "image/png": "[encoded data removed]",
      "text/plain": [
       "<Figure size 1152x360 with 1 Axes>"
      ]
     },
     "metadata": {
      "needs_background": "light"
     },
     "output_type": "display_data"
    }
   ],
   "source": [
    "def percent_empty(df):\n",
    "    bools = df.isnull().tolist()\n",
    "    percent_empty = float(bools.count(True)) / float(len(bools))\n",
    "\n",
    "    return percent_empty, float(bools.count(True))\n",
    "\n",
    "\n",
    "# Store emptiness for all features\n",
    "emptiness = []\n",
    "\n",
    "missing_columns = []\n",
    "\n",
    "# Get emptiness for all features\n",
    "for i in range(0, df.shape[1]):\n",
    "    p, n = percent_empty(df.iloc[:, i])\n",
    "    if n > 0:\n",
    "        missing_columns.append(df.columns.values[i])\n",
    "    emptiness.append(round((p), 2))\n",
    "\n",
    "empty_dict = dict(zip(df.columns.values.tolist(), emptiness))\n",
    "\n",
    "# Plot emptiness graph\n",
    "empty = pd.DataFrame.from_dict(empty_dict, orient='index').sort_values(by=0)\n",
    "ax = empty.plot(kind='bar', color='#E35A5C', figsize=(16, 5))\n",
    "ax.set_xlabel('Predictor')\n",
    "ax.set_ylabel('Percent Empty / NaN')\n",
    "ax.set_title('Feature Emptiness')\n",
    "ax.legend_.remove()\n",
    "\n",
    "\n",
    "plt.show()"
   ]
  },
  {
   "cell_type": "code",
   "execution_count": 227,
   "metadata": {},
   "outputs": [
    {
     "data": {
      "text/plain": [
       "id                                      0\n",
       "experiences_offered                     0\n",
       "host_since                             26\n",
       "host_response_time                  12894\n",
       "host_response_rate                  12895\n",
       "host_acceptance_rate                22552\n",
       "host_is_superhost                      26\n",
       "host_listings_count                    26\n",
       "host_total_listings_count              26\n",
       "host_has_profile_pic                   26\n",
       "host_identity_verified                 26\n",
       "street                                  0\n",
       "neighbourhood                        1131\n",
       "neighbourhood_cleansed                  0\n",
       "neighbourhood_group_cleansed            0\n",
       "city                                    5\n",
       "state                                  84\n",
       "zipcode                               656\n",
       "market                                 63\n",
       "smart_location                          0\n",
       "country_code                            0\n",
       "country                                 0\n",
       "latitude                                0\n",
       "longitude                               0\n",
       "is_location_exact                       0\n",
       "property_type                           0\n",
       "room_type                               0\n",
       "accommodates                            0\n",
       "bathrooms                              32\n",
       "bedrooms                               18\n",
       "beds                                   40\n",
       "bed_type                                0\n",
       "amenities                               0\n",
       "square_feet                         22106\n",
       "price                                   0\n",
       "weekly_price                        18871\n",
       "monthly_price                       19893\n",
       "security_deposit                     9361\n",
       "cleaning_fee                         7146\n",
       "guests_included                         0\n",
       "extra_people                            0\n",
       "minimum_nights                          0\n",
       "maximum_nights                          0\n",
       "calendar_updated                        0\n",
       "has_availability                        0\n",
       "availability_30                         0\n",
       "availability_60                         0\n",
       "availability_90                         0\n",
       "availability_365                        0\n",
       "number_of_reviews                       0\n",
       "first_review                         3914\n",
       "last_review                          3908\n",
       "review_scores_rating                 4389\n",
       "review_scores_accuracy               4414\n",
       "review_scores_cleanliness            4411\n",
       "review_scores_checkin                4432\n",
       "review_scores_communication          4418\n",
       "review_scores_location               4431\n",
       "review_scores_value                  4435\n",
       "requires_license                        0\n",
       "license                             20914\n",
       "jurisdiction_names                  22552\n",
       "instant_bookable                        0\n",
       "is_business_travel_ready                0\n",
       "cancellation_policy                     0\n",
       "require_guest_profile_picture           0\n",
       "require_guest_phone_verification        0\n",
       "calculated_host_listings_count          0\n",
       "reviews_per_month                    3914\n",
       "dtype: int64"
      ]
     },
     "execution_count": 227,
     "metadata": {},
     "output_type": "execute_result"
    }
   ],
   "source": [
    "df.isna().sum()\n"
   ]
  },
  {
   "cell_type": "code",
   "execution_count": 228,
   "metadata": {},
   "outputs": [],
   "source": [
    "df.drop(['license', 'jurisdiction_names', 'monthly_price', 'weekly_price', 'square_feet','host_acceptance_rate'], axis=1, inplace=True)\n",
    "\n",
    "# set id as index\n",
    "df.set_index('id', inplace=True) # ID as index"
   ]
  },
  {
   "cell_type": "code",
   "execution_count": 229,
   "metadata": {},
   "outputs": [],
   "source": [
    "df.drop(['host_total_listings_count', 'calculated_host_listings_count' \n",
    "         ], axis=1, inplace=True)"
   ]
  },
  {
   "cell_type": "markdown",
   "metadata": {},
   "source": [
    "Drop multiple attributes for property location"
   ]
  },
  {
   "cell_type": "code",
   "execution_count": 230,
   "metadata": {},
   "outputs": [],
   "source": [
    "\n",
    "df.drop(['zipcode', 'street', 'neighbourhood', 'city', \n",
    "         'state', 'market', 'smart_location', 'country_code', 'country', 'is_location_exact'], axis=1, inplace=True)"
   ]
  },
  {
   "cell_type": "markdown",
   "metadata": {},
   "source": [
    "Checking whether boolean and categorical features contain sufficient numbers of instances in each category to make them worth including:"
   ]
  },
  {
   "cell_type": "code",
   "execution_count": 231,
   "metadata": {},
   "outputs": [
    {
     "data": {
      "image/png": "[encoded data removed]",
      "text/plain": [
       "<Figure size 1440x1440 with 36 Axes>"
      ]
     },
     "metadata": {
      "needs_background": "light"
     },
     "output_type": "display_data"
    }
   ],
   "source": [
    "# Replacing columns with f/t with 0/1\n",
    "df.replace({'f': 0, 't': 1}, inplace=True)\n",
    "\n",
    "# Plotting the distribution of numerical and boolean categories\n",
    "df.hist(figsize=(20,20));"
   ]
  },
  {
   "cell_type": "markdown",
   "metadata": {},
   "source": [
    "Drop Attributes with only one category"
   ]
  },
  {
   "cell_type": "code",
   "execution_count": 232,
   "metadata": {},
   "outputs": [],
   "source": [
    "df.drop(['has_availability', 'host_has_profile_pic', 'is_business_travel_ready', \n",
    "         'require_guest_phone_verification', 'require_guest_profile_picture', 'requires_license'], axis=1, inplace=True)"
   ]
  },
  {
   "cell_type": "markdown",
   "metadata": {},
   "source": [
    "clone repo and get feature description"
   ]
  },
  {
   "cell_type": "markdown",
   "metadata": {},
   "source": [
    "### Individual columns"
   ]
  },
  {
   "cell_type": "markdown",
   "metadata": {},
   "source": [
    "#### Experiences_offered\n",
    "\n",
    "Most dont offer any --> drop"
   ]
  },
  {
   "cell_type": "code",
   "execution_count": 233,
   "metadata": {},
   "outputs": [
    {
     "data": {
      "text/plain": [
       "none    22552\n",
       "Name: experiences_offered, dtype: int64"
      ]
     },
     "execution_count": 233,
     "metadata": {},
     "output_type": "execute_result"
    }
   ],
   "source": [
    "df.experiences_offered.value_counts()\n"
   ]
  },
  {
   "cell_type": "code",
   "execution_count": 234,
   "metadata": {},
   "outputs": [],
   "source": [
    "df.drop('experiences_offered', axis=1, inplace=True)\n"
   ]
  },
  {
   "cell_type": "markdown",
   "metadata": {},
   "source": [
    "#### host_since\n",
    "\n",
    "Convert into meassure of the number of days a host has been active on the platform"
   ]
  },
  {
   "cell_type": "code",
   "execution_count": 235,
   "metadata": {},
   "outputs": [
    {
     "name": "stdout",
     "output_type": "stream",
     "text": [
      "Mean days as host: 1346.0\n",
      "Median days as host: 1289.0\n"
     ]
    }
   ],
   "source": [
    "# Converting to datetime\n",
    "df.host_since = pd.to_datetime(df.host_since) \n",
    "\n",
    "# Calculating the number of days\n",
    "df['host_days_active'] = (pd.datetime(2018, 11, 7) - df.host_since).astype('timedelta64[D]')\n",
    "\n",
    "# Printing mean and median\n",
    "print(\"Mean days as host:\", round(df['host_days_active'].mean(),0))\n",
    "print(\"Median days as host:\", df['host_days_active'].median())\n",
    "\n",
    "# Replacing null values with the median\n",
    "df.host_days_active.fillna(df.host_days_active.median(), inplace=True)\n",
    "\n"
   ]
  },
  {
   "cell_type": "markdown",
   "metadata": {},
   "source": [
    "#### host_response_time\n",
    "\n",
    "Note: Maybe drop this one"
   ]
  },
  {
   "cell_type": "code",
   "execution_count": 236,
   "metadata": {},
   "outputs": [
    {
     "name": "stdout",
     "output_type": "stream",
     "text": [
      "Null values: 12894\n",
      "Proportion: 57.2%\n"
     ]
    },
    {
     "data": {
      "text/plain": [
       "3914"
      ]
     },
     "execution_count": 236,
     "metadata": {},
     "output_type": "execute_result"
    }
   ],
   "source": [
    "print(\"Null values:\", df.host_response_time.isna().sum())\n",
    "print(f\"Proportion: {round((df.host_response_time.isna().sum()/len(df))*100, 1)}%\")\n",
    "\n",
    "# Number of rows without a value for host_response_time which have also not yet had a review\n",
    "len(df[df.loc[ :,['host_response_time ', 'first_review'] ].isnull().sum(axis=1) == 2])"
   ]
  },
  {
   "cell_type": "code",
   "execution_count": 237,
   "metadata": {},
   "outputs": [
    {
     "data": {
      "text/plain": [
       "unknown               0.571745\n",
       "within an hour        0.225302\n",
       "within a few hours    0.094315\n",
       "within a day          0.091344\n",
       "a few days or more    0.017293\n",
       "Name: host_response_time, dtype: float64"
      ]
     },
     "execution_count": 237,
     "metadata": {},
     "output_type": "execute_result"
    }
   ],
   "source": [
    "df.host_response_time.fillna(\"unknown\", inplace=True)\n",
    "df.host_response_time.value_counts(normalize=True)"
   ]
  },
  {
   "cell_type": "code",
   "execution_count": 238,
   "metadata": {},
   "outputs": [
    {
     "data": {
      "text/plain": [
       "unknown               0.571745\n",
       "within an hour        0.225302\n",
       "within a few hours    0.094315\n",
       "within a day          0.091344\n",
       "a few days or more    0.017293\n",
       "Name: host_response_time, dtype: float64"
      ]
     },
     "execution_count": 238,
     "metadata": {},
     "output_type": "execute_result"
    }
   ],
   "source": [
    "df.host_response_time.value_counts(normalize=True)\n"
   ]
  },
  {
   "cell_type": "markdown",
   "metadata": {},
   "source": [
    "#### host_response_rate"
   ]
  },
  {
   "cell_type": "code",
   "execution_count": 239,
   "metadata": {},
   "outputs": [
    {
     "name": "stdout",
     "output_type": "stream",
     "text": [
      "Null values: 12895\n",
      "Proportion: 57.2%\n"
     ]
    }
   ],
   "source": [
    "print(\"Null values:\", df.host_response_rate.isna().sum())\n",
    "print(f\"Proportion: {round((df.host_response_rate.isna().sum()/len(df))*100, 1)}%\")"
   ]
  },
  {
   "cell_type": "code",
   "execution_count": 240,
   "metadata": {},
   "outputs": [
    {
     "name": "stdout",
     "output_type": "stream",
     "text": [
      "Mean host response rate: 92.0\n",
      "Median host response rate: 100.0\n",
      "Proportion of 100% host response rates: 73.8%\n"
     ]
    }
   ],
   "source": [
    "# Removing the % sign from the host_response_rate string and converting to an integer\n",
    "df.host_response_rate = df.host_response_rate.str[:-1].astype('float64')\n",
    "\n",
    "print(\"Mean host response rate:\", round(df['host_response_rate'].mean(),0))\n",
    "print(\"Median host response rate:\", df['host_response_rate'].median())\n",
    "print(f\"Proportion of 100% host response rates: {round(((df.host_response_rate == 100.0).sum()/df.host_response_rate.count())*100,1)}%\")"
   ]
  },
  {
   "cell_type": "code",
   "execution_count": 241,
   "metadata": {},
   "outputs": [
    {
     "data": {
      "text/plain": [
       "unknown    12895\n",
       "100%        7127\n",
       "50-89%      1706\n",
       "0-49%        586\n",
       "90-99%       238\n",
       "Name: host_response_rate, dtype: int64"
      ]
     },
     "execution_count": 241,
     "metadata": {},
     "output_type": "execute_result"
    }
   ],
   "source": [
    "# Bin into four categories\n",
    "df.host_response_rate = pd.cut(df.host_response_rate, \n",
    "                               bins=[0, 50, 90, 99, 100], \n",
    "                               labels=['0-49%', '50-89%', '90-99%', '100%'], \n",
    "                               include_lowest=True)\n",
    "\n",
    "# Converting to string\n",
    "df.host_response_rate = df.host_response_rate.astype('str')\n",
    "\n",
    "# Replace nulls with 'unknown'\n",
    "df.host_response_rate.replace('nan', 'unknown', inplace=True)\n",
    "\n",
    "# Category counts\n",
    "df.host_response_rate.value_counts()"
   ]
  },
  {
   "cell_type": "markdown",
   "metadata": {},
   "source": [
    "#### host_is_superhost\n",
    "\n",
    "Check how many features are lacking values for host-related attributes and remove those"
   ]
  },
  {
   "cell_type": "code",
   "execution_count": 242,
   "metadata": {},
   "outputs": [
    {
     "data": {
      "text/plain": [
       "26"
      ]
     },
     "execution_count": 242,
     "metadata": {},
     "output_type": "execute_result"
    }
   ],
   "source": [
    "# Number of rows without a value for multiple host-related columns\n",
    "len(df[df.loc[ :,['host_since ', 'host_is_superhost', 'host_listings_count', \n",
    "                  'host_has_profile_pic', 'host_identity_verified'] ].isnull().sum(axis=1) == 5])"
   ]
  },
  {
   "cell_type": "code",
   "execution_count": 244,
   "metadata": {},
   "outputs": [],
   "source": [
    "df.dropna(subset=['host_since'], inplace=True)\n",
    "# drop original column\n",
    "df.drop(['host_since'], axis=1, inplace=True)"
   ]
  },
  {
   "cell_type": "markdown",
   "metadata": {},
   "source": [
    "#### property_type"
   ]
  },
  {
   "cell_type": "code",
   "execution_count": 245,
   "metadata": {},
   "outputs": [
    {
     "data": {
      "text/plain": [
       "Apartment                 20201\n",
       "Condominium                 612\n",
       "Loft                        460\n",
       "House                       397\n",
       "Serviced apartment          175\n",
       "Hostel                      128\n",
       "Townhouse                    98\n",
       "Guest suite                  74\n",
       "Bed and breakfast            64\n",
       "Guesthouse                   57\n",
       "Hotel                        50\n",
       "Other                        47\n",
       "Boutique hotel               43\n",
       "Bungalow                     20\n",
       "Boat                         17\n",
       "Tiny house                   12\n",
       "Camper/RV                    11\n",
       "Houseboat                    11\n",
       "Villa                        10\n",
       "Pension (South Korea)         7\n",
       "Aparthotel                    7\n",
       "Cabin                         6\n",
       "Cottage                       4\n",
       "Resort                        3\n",
       "Casa particular (Cuba)        2\n",
       "Castle                        2\n",
       "Train                         2\n",
       "Barn                          1\n",
       "Tipi                          1\n",
       "Island                        1\n",
       "In-law                        1\n",
       "Chalet                        1\n",
       "Cave                          1\n",
       "Name: property_type, dtype: int64"
      ]
     },
     "execution_count": 245,
     "metadata": {},
     "output_type": "execute_result"
    }
   ],
   "source": [
    "df.property_type.value_counts()\n"
   ]
  },
  {
   "cell_type": "markdown",
   "metadata": {},
   "source": [
    "yep, there is some cleaning required....otherwise to many dummies.\n",
    "\n",
    "Categories: House, Apartment and other"
   ]
  },
  {
   "cell_type": "code",
   "execution_count": 246,
   "metadata": {},
   "outputs": [
    {
     "data": {
      "text/plain": [
       "Apartment    21448\n",
       "House          557\n",
       "Other          521\n",
       "Name: property_type, dtype: int64"
      ]
     },
     "execution_count": 246,
     "metadata": {},
     "output_type": "execute_result"
    }
   ],
   "source": [
    "# Replacing categories that are types of houses or apartments\n",
    "df.property_type.replace({\n",
    "    'Townhouse': 'House',\n",
    "    'Serviced apartment': 'Apartment',\n",
    "    'Condominium' : 'Apartment',\n",
    "    'Loft': 'Apartment',\n",
    "    'Bungalow': 'House',\n",
    "    'Cottage': 'House',\n",
    "    'Villa': 'House',\n",
    "    'Tiny house': 'House',\n",
    "    'Chalet': 'House',\n",
    "    'Houseboat':'House',\n",
    "    'Castle':'House',\n",
    "    'Casa particular (Cuba)': 'House'\n",
    "    }, inplace=True)\n",
    "\n",
    "# Replacing other categories with 'other'\n",
    "df.loc[~df.property_type.isin(['House', 'Apartment']), 'property_type'] = 'Other'\n",
    "df.property_type.value_counts()"
   ]
  },
  {
   "cell_type": "markdown",
   "metadata": {},
   "source": [
    "#### bathrooms, bedrooms and beds\n",
    "\n",
    "Missing values will be replaced with the median (to avoid strange fractions)\n"
   ]
  },
  {
   "cell_type": "code",
   "execution_count": 247,
   "metadata": {},
   "outputs": [],
   "source": [
    "for col in ['bathrooms', 'bedrooms', 'beds']:\n",
    "    df[col].fillna(df[col].median(), inplace=True)"
   ]
  },
  {
   "cell_type": "markdown",
   "metadata": {},
   "source": [
    "#### bed_type"
   ]
  },
  {
   "cell_type": "code",
   "execution_count": 248,
   "metadata": {},
   "outputs": [
    {
     "data": {
      "text/plain": [
       "Real Bed         21742\n",
       "Pull-out Sofa      450\n",
       "Futon              239\n",
       "Couch               72\n",
       "Airbed              23\n",
       "Name: bed_type, dtype: int64"
      ]
     },
     "execution_count": 248,
     "metadata": {},
     "output_type": "execute_result"
    }
   ],
   "source": [
    "df.bed_type.value_counts()"
   ]
  },
  {
   "cell_type": "code",
   "execution_count": 249,
   "metadata": {},
   "outputs": [
    {
     "data": {
      "text/plain": [
       "Real Bed    21981\n",
       "Couch         545\n",
       "Name: bed_type, dtype: int64"
      ]
     },
     "execution_count": 249,
     "metadata": {},
     "output_type": "execute_result"
    }
   ],
   "source": [
    "# ...to many dummies...\n",
    "df.bed_type.replace({\n",
    "    'Futon':'Real Bed',\n",
    "    'Pull-out Sofa': 'Couch',\n",
    "    'Airbed':'Couch'\n",
    "}, inplace=True)\n",
    "df.bed_type.value_counts()"
   ]
  },
  {
   "cell_type": "markdown",
   "metadata": {},
   "source": [
    "#### amenities"
   ]
  },
  {
   "cell_type": "markdown",
   "metadata": {},
   "source": [
    "Amenities is a list of additional features in the property, i.e. an elevator or pool. Some of those are more imortant than others (i.e. a pool is more likekly to increase the price than a hairdryer). For the purpose of this project, amenities will be extracted based on  research of  Graciela Carrillos.\n",
    "\n",
    "These will be further investigated in the EDA section. For example, if it turns out that almost all properties have/do not have a particular amenity, that feature will not be very useful in helping explain differences in prices."
   ]
  },
  {
   "cell_type": "code",
   "execution_count": 250,
   "metadata": {},
   "outputs": [
    {
     "data": {
      "text/plain": [
       "{'',\n",
       " '24-hour check-in',\n",
       " 'Accessible-height bed',\n",
       " 'Accessible-height toilet',\n",
       " 'Air conditioning',\n",
       " 'Air purifier',\n",
       " 'BBQ grill',\n",
       " 'Baby bath',\n",
       " 'Baby monitor',\n",
       " 'Babysitter recommendations',\n",
       " 'Bath towel',\n",
       " 'Bathroom essentials',\n",
       " 'Bathtub',\n",
       " 'Bathtub with bath chair',\n",
       " 'Beach essentials',\n",
       " 'Beachfront',\n",
       " 'Bed linens',\n",
       " 'Bedroom comforts',\n",
       " 'Body soap',\n",
       " 'Breakfast',\n",
       " 'Breakfast table',\n",
       " 'Building staff',\n",
       " 'Buzzer/wireless intercom',\n",
       " 'Cable TV',\n",
       " 'Carbon monoxide detector',\n",
       " 'Cat(s)',\n",
       " 'Ceiling hoist',\n",
       " 'Changing table',\n",
       " 'Children’s books and toys',\n",
       " 'Children’s dinnerware',\n",
       " 'Cleaning before checkout',\n",
       " 'Coffee maker',\n",
       " 'Convection oven',\n",
       " 'Cooking basics',\n",
       " 'Crib',\n",
       " 'Disabled parking spot',\n",
       " 'Dishes and silverware',\n",
       " 'Dishwasher',\n",
       " 'Dog(s)',\n",
       " 'Doorman',\n",
       " 'Dryer',\n",
       " 'EV charger',\n",
       " 'Electric profiling bed',\n",
       " 'Elevator',\n",
       " 'Essentials',\n",
       " 'Ethernet connection',\n",
       " 'Extra pillows and blankets',\n",
       " 'Family/kid friendly',\n",
       " 'Fire extinguisher',\n",
       " 'Fireplace guards',\n",
       " 'Firm mattress',\n",
       " 'First aid kit',\n",
       " 'Fixed grab bars for shower',\n",
       " 'Fixed grab bars for toilet',\n",
       " 'Flat path to front door',\n",
       " 'Free parking on premises',\n",
       " 'Free street parking',\n",
       " 'Full kitchen',\n",
       " 'Game console',\n",
       " 'Garden or backyard',\n",
       " 'Ground floor access',\n",
       " 'Gym',\n",
       " 'Hair dryer',\n",
       " 'Handheld shower head',\n",
       " 'Hangers',\n",
       " 'Heating',\n",
       " 'High chair',\n",
       " 'Host greets you',\n",
       " 'Hot tub',\n",
       " 'Hot water',\n",
       " 'Hot water kettle',\n",
       " 'Indoor fireplace',\n",
       " 'Internet',\n",
       " 'Iron',\n",
       " 'Keypad',\n",
       " 'Kitchen',\n",
       " 'Kitchenette',\n",
       " 'Lake access',\n",
       " 'Laptop friendly workspace',\n",
       " 'Lock on bedroom door',\n",
       " 'Lockbox',\n",
       " 'Long term stays allowed',\n",
       " 'Luggage dropoff allowed',\n",
       " 'Microwave',\n",
       " 'Netflix',\n",
       " 'Other',\n",
       " 'Other pet(s)',\n",
       " 'Outlet covers',\n",
       " 'Oven',\n",
       " 'Pack ’n Play/travel crib',\n",
       " 'Paid parking off premises',\n",
       " 'Paid parking on premises',\n",
       " 'Patio or balcony',\n",
       " 'Pets allowed',\n",
       " 'Pets live on this property',\n",
       " 'Pocket wifi',\n",
       " 'Pool',\n",
       " 'Private bathroom',\n",
       " 'Private entrance',\n",
       " 'Private living room',\n",
       " 'Refrigerator',\n",
       " 'Roll-in shower',\n",
       " 'Room-darkening shades',\n",
       " 'Safety card',\n",
       " 'Self check-in',\n",
       " 'Shampoo',\n",
       " 'Shower chair',\n",
       " 'Single level home',\n",
       " 'Ski-in/Ski-out',\n",
       " 'Smart TV',\n",
       " 'Smart lock',\n",
       " 'Smoke detector',\n",
       " 'Smoking allowed',\n",
       " 'Sound system',\n",
       " 'Stair gates',\n",
       " 'Step-free access',\n",
       " 'Stove',\n",
       " 'Suitable for events',\n",
       " 'TV',\n",
       " 'Table corner guards',\n",
       " 'Toilet paper',\n",
       " 'Washer',\n",
       " 'Washer / Dryer',\n",
       " 'Waterfront',\n",
       " 'Well-lit path to entrance',\n",
       " 'Wheelchair accessible',\n",
       " 'Wide clearance to bed',\n",
       " 'Wide clearance to shower',\n",
       " 'Wide doorway',\n",
       " 'Wide entryway',\n",
       " 'Wide hallway clearance',\n",
       " 'Wifi',\n",
       " 'Window guards',\n",
       " 'toilet',\n",
       " 'translation missing: en.hosting_amenity_49',\n",
       " 'translation missing: en.hosting_amenity_50'}"
      ]
     },
     "execution_count": 250,
     "metadata": {},
     "output_type": "execute_result"
    }
   ],
   "source": [
    "# Creating a set of all possible amenities\n",
    "amenities_list = list(df.amenities)\n",
    "amenities_list_string = \" \".join(amenities_list)\n",
    "amenities_list_string = amenities_list_string.replace('{', '')\n",
    "amenities_list_string = amenities_list_string.replace('}', ',')\n",
    "amenities_list_string = amenities_list_string.replace('\"', '')\n",
    "amenities_set = [x.strip() for x in amenities_list_string.split(',')]\n",
    "amenities_set = set(amenities_set)\n",
    "amenities_set"
   ]
  },
  {
   "cell_type": "code",
   "execution_count": 251,
   "metadata": {},
   "outputs": [
    {
     "data": {
      "text/plain": [
       "43"
      ]
     },
     "execution_count": 251,
     "metadata": {},
     "output_type": "execute_result"
    }
   ],
   "source": [
    "df.shape[1]\n"
   ]
  },
  {
   "cell_type": "code",
   "execution_count": 252,
   "metadata": {},
   "outputs": [],
   "source": [
    "df.loc[df['amenities'].str.contains('24-hour check-in'), 'check_in_24h'] = 1\n",
    "df.loc[df['amenities'].str.contains('Air conditioning|Central air conditioning'), 'air_conditioning'] = 1\n",
    "df.loc[df['amenities'].str.contains('Amazon Echo|Apple TV|Game console|Netflix|Projector and screen|Smart TV'), 'high_end_electronics'] = 1\n",
    "df.loc[df['amenities'].str.contains('BBQ grill|Fire pit|Propane barbeque'), 'bbq'] = 1\n",
    "df.loc[df['amenities'].str.contains('Balcony|Patio'), 'balcony'] = 1\n",
    "df.loc[df['amenities'].str.contains('Beach view|Beachfront|Lake access|Mountain view|Ski-in/Ski-out|Waterfront'), 'nature_and_views'] = 1\n",
    "df.loc[df['amenities'].str.contains('Bed linens'), 'bed_linen'] = 1\n",
    "df.loc[df['amenities'].str.contains('Breakfast'), 'breakfast'] = 1\n",
    "df.loc[df['amenities'].str.contains('TV'), 'tv'] = 1\n",
    "df.loc[df['amenities'].str.contains('Coffee maker|Espresso machine'), 'coffee_machine'] = 1\n",
    "df.loc[df['amenities'].str.contains('Cooking basics'), 'cooking_basics'] = 1\n",
    "df.loc[df['amenities'].str.contains('Dishwasher|Dryer|Washer'), 'white_goods'] = 1\n",
    "df.loc[df['amenities'].str.contains('Elevator'), 'elevator'] = 1\n",
    "df.loc[df['amenities'].str.contains('Exercise equipment|Gym|gym'), 'gym'] = 1\n",
    "df.loc[df['amenities'].str.contains('Family/kid friendly|Children|children'), 'child_friendly'] = 1\n",
    "df.loc[df['amenities'].str.contains('parking'), 'parking'] = 1\n",
    "df.loc[df['amenities'].str.contains('Garden|Outdoor|Sun loungers|Terrace'), 'outdoor_space'] = 1\n",
    "df.loc[df['amenities'].str.contains('Host greets you'), 'host_greeting'] = 1\n",
    "df.loc[df['amenities'].str.contains('Hot tub|Jetted tub|hot tub|Sauna|Pool|pool'), 'hot_tub_sauna_or_pool'] = 1\n",
    "df.loc[df['amenities'].str.contains('Internet|Pocket wifi|Wifi'), 'internet'] = 1\n",
    "df.loc[df['amenities'].str.contains('Long term stays allowed'), 'long_term_stays'] = 1\n",
    "df.loc[df['amenities'].str.contains('Pets|pet|Cat(s)|Dog(s)'), 'pets_allowed'] = 1\n",
    "df.loc[df['amenities'].str.contains('Private entrance'), 'private_entrance'] = 1\n",
    "df.loc[df['amenities'].str.contains('Safe|Security system'), 'secure'] = 1\n",
    "df.loc[df['amenities'].str.contains('Self check-in'), 'self_check_in'] = 1\n",
    "df.loc[df['amenities'].str.contains('Smoking allowed'), 'smoking_allowed'] = 1\n",
    "df.loc[df['amenities'].str.contains('Step-free access|Wheelchair|Accessible'), 'accessible'] = 1\n",
    "df.loc[df['amenities'].str.contains('Suitable for events'), 'event_suitable'] = 1"
   ]
  },
  {
   "cell_type": "markdown",
   "metadata": {},
   "source": [
    "Amenity features where either the true or the false category contains fewer than 10% of listings will be removed. (No explanatory power)"
   ]
  },
  {
   "cell_type": "code",
   "execution_count": 253,
   "metadata": {},
   "outputs": [
    {
     "data": {
      "text/plain": [
       "71"
      ]
     },
     "execution_count": 253,
     "metadata": {},
     "output_type": "execute_result"
    }
   ],
   "source": [
    "df.shape[1]\n"
   ]
  },
  {
   "cell_type": "code",
   "execution_count": 254,
   "metadata": {},
   "outputs": [
    {
     "name": "stdout",
     "output_type": "stream",
     "text": [
      "['air_conditioning', 'high_end_electronics', 'bbq', 'nature_and_views', 'breakfast', 'gym', 'outdoor_space', 'hot_tub_sauna_or_pool', 'secure', 'self_check_in', 'accessible', 'event_suitable']\n"
     ]
    }
   ],
   "source": [
    "# Replacing nulls with zeros for new columns\n",
    "cols_to_replace_nulls = df.iloc[:,44:].columns\n",
    "df[cols_to_replace_nulls] = df[cols_to_replace_nulls].fillna(0)\n",
    "\n",
    "# Produces a list of amenity features where one category (true or false) contains fewer than 10% of listings\n",
    "infrequent_amenities = []\n",
    "for col in df.iloc[:,44:].columns:\n",
    "    if df[col].sum() < len(df)/10:\n",
    "        infrequent_amenities.append(col)\n",
    "print(infrequent_amenities)\n",
    "\n",
    "# Dropping infrequent amenity features\n",
    "df.drop(infrequent_amenities, axis=1, inplace=True)\n",
    "\n",
    "# Dropping the original amenity feature\n",
    "df.drop('amenities', axis=1, inplace=True)"
   ]
  },
  {
   "cell_type": "code",
   "execution_count": 255,
   "metadata": {},
   "outputs": [
    {
     "data": {
      "text/plain": [
       "Index(['bed_linen', 'tv', 'coffee_machine', 'cooking_basics', 'white_goods',\n",
       "       'elevator', 'child_friendly', 'parking', 'host_greeting', 'internet',\n",
       "       'long_term_stays', 'pets_allowed', 'private_entrance',\n",
       "       'smoking_allowed'],\n",
       "      dtype='object')"
      ]
     },
     "execution_count": 255,
     "metadata": {},
     "output_type": "execute_result"
    }
   ],
   "source": [
    "# list amenitie-dummies\n",
    "df.columns[44:]\n"
   ]
  },
  {
   "cell_type": "markdown",
   "metadata": {},
   "source": [
    "#### All attributes containing a price\n",
    "\n",
    "Those need to be converted to integers and the currency sign needs to be removed.\n",
    "\n",
    "#### Atributes: price, security_deposit, cleaning_fee, extra_people\n",
    "\n",
    "missing values for security_deposit, cleaning_fee and extra_people is basically the same 0€. Therefore missing values will be replaced with 0\n"
   ]
  },
  {
   "cell_type": "code",
   "execution_count": 256,
   "metadata": {},
   "outputs": [],
   "source": [
    "df.price = df.price.str[1:-3]\n",
    "df.price = df.price.str.replace(\",\", \"\")\n",
    "df.price = df.price.astype('int64')"
   ]
  },
  {
   "cell_type": "code",
   "execution_count": 257,
   "metadata": {},
   "outputs": [],
   "source": [
    "df.security_deposit = df.security_deposit.str[1:-3]\n",
    "df.security_deposit = df.security_deposit.str.replace(\",\", \"\")\n",
    "df.security_deposit.fillna(0, inplace=True)\n",
    "df.security_deposit = df.security_deposit.astype('int64')"
   ]
  },
  {
   "cell_type": "code",
   "execution_count": 258,
   "metadata": {},
   "outputs": [],
   "source": [
    "df.cleaning_fee = df.cleaning_fee.str[1:-3]\n",
    "df.cleaning_fee = df.cleaning_fee.str.replace(\",\", \"\")\n",
    "df.cleaning_fee.fillna(0, inplace=True)\n",
    "df.cleaning_fee = df.cleaning_fee.astype('int64')"
   ]
  },
  {
   "cell_type": "code",
   "execution_count": 259,
   "metadata": {},
   "outputs": [],
   "source": [
    "df.extra_people = df.extra_people.str[1:-3]\n",
    "df.extra_people = df.extra_people.str.replace(\",\", \"\")\n",
    "df.extra_people.fillna(0, inplace=True)\n",
    "df.extra_people = df.extra_people.astype('int64')"
   ]
  },
  {
   "cell_type": "code",
   "execution_count": 260,
   "metadata": {},
   "outputs": [],
   "source": [
    "df.drop('calendar_updated', axis=1, inplace=True)"
   ]
  },
  {
   "cell_type": "markdown",
   "metadata": {},
   "source": [
    "#### availability \n",
    "\n",
    "There are multiple attributes for availability like typ we will only keep avaulability_90"
   ]
  },
  {
   "cell_type": "code",
   "execution_count": 261,
   "metadata": {},
   "outputs": [],
   "source": [
    "\n",
    "df.drop(['availability_30', 'availability_60', 'availability_365'], axis=1, inplace=True)"
   ]
  },
  {
   "cell_type": "markdown",
   "metadata": {},
   "source": [
    "#### first_review and last_review\n",
    "\n",
    "Basically: To large propotion of the Dataset has missing data for this attribute. But the missing values here are not really missing values, as the fact that they are NaNs is meaningful - it tells us that these are new or previously unbooked listings that have not had reviews yet.\n",
    "Therefore this will be converted to a categorial attribute.\n"
   ]
  },
  {
   "cell_type": "code",
   "execution_count": 262,
   "metadata": {},
   "outputs": [
    {
     "name": "stdout",
     "output_type": "stream",
     "text": [
      "Null values in 'first_review': 17.3%\n",
      "Null values in 'review_scores_rating': 19.4%\n"
     ]
    }
   ],
   "source": [
    "\n",
    "print(f\"Null values in 'first_review': {round(100*df.first_review.isna().sum()/len(df),1)}%\")\n",
    "print(f\"Null values in 'review_scores_rating': {round(100*df.review_scores_rating .isna().sum()/len(df),1)}%\")"
   ]
  },
  {
   "cell_type": "code",
   "execution_count": 263,
   "metadata": {},
   "outputs": [],
   "source": [
    "df.first_review = pd.to_datetime(df.first_review) # Converting to datetime\n",
    "\n",
    "# Calculating the number of days between the first review and the date the data was scraped\n",
    "df['time_since_first_review'] = (pd.datetime(2018, 7, 11) - df.first_review).astype('timedelta64[D]')"
   ]
  },
  {
   "cell_type": "code",
   "execution_count": 264,
   "metadata": {},
   "outputs": [
    {
     "data": {
      "image/png": "[encoded data removed]",
      "text/plain": [
       "<Figure size 1080x360 with 1 Axes>"
      ]
     },
     "metadata": {
      "needs_background": "light"
     },
     "output_type": "display_data"
    }
   ],
   "source": [
    "# Distribution of the number of days since first review\n",
    "df.time_since_first_review.hist(figsize=(15,5), bins=30);"
   ]
  },
  {
   "cell_type": "code",
   "execution_count": 265,
   "metadata": {},
   "outputs": [],
   "source": [
    "def bin_column(col, bins, labels, na_label='unknown'):\n",
    "    \"\"\"\n",
    "    Takes in a column name, bin cut points and labels, replaces the original column with a\n",
    "    binned version, and replaces nulls (with 'unknown' if unspecified).\n",
    "    \"\"\"\n",
    "    df[col] = pd.cut(df[col], bins=bins, labels=labels, include_lowest=True)\n",
    "    df[col] = df[col].astype('str')\n",
    "    df[col].fillna(na_label, inplace=True)"
   ]
  },
  {
   "cell_type": "code",
   "execution_count": 266,
   "metadata": {},
   "outputs": [],
   "source": [
    "# Binning time since first review\n",
    "bin_column('time_since_first_review',\n",
    "           bins=[0, 182, 365, 730, 1460, max(df.time_since_first_review)],\n",
    "           labels=['0-6 months',\n",
    "                   '6-12 months',\n",
    "                   '1-2 years',\n",
    "                   '2-3 years',\n",
    "                   '4+ years'],\n",
    "           na_label='no reviews')"
   ]
  },
  {
   "cell_type": "code",
   "execution_count": 267,
   "metadata": {},
   "outputs": [
    {
     "data": {
      "image/png": "[encoded data removed]",
      "text/plain": [
       "<Figure size 1080x360 with 1 Axes>"
      ]
     },
     "metadata": {
      "needs_background": "light"
     },
     "output_type": "display_data"
    }
   ],
   "source": [
    "df.last_review = pd.to_datetime(df.last_review) # Converting to datetime\n",
    "\n",
    "# Calculating the number of days between the most recent review and the date the data was scraped\n",
    "df['time_since_last_review'] = (pd.datetime(2018, 7, 11) - df.last_review).astype('timedelta64[D]')\n",
    "\n",
    "# Distribution of the number of days since last review\n",
    "df.time_since_last_review.hist(figsize=(15,5), bins=30);"
   ]
  },
  {
   "cell_type": "code",
   "execution_count": 268,
   "metadata": {},
   "outputs": [],
   "source": [
    "# Binning time since last review\n",
    "bin_column('time_since_last_review',\n",
    "           bins=[0, 14, 60, 182, 365, max(df.time_since_last_review)],\n",
    "           labels=['0-2 weeks',\n",
    "                   '2-8 weeks',\n",
    "                   '2-6 months',\n",
    "                   '6-12 months',\n",
    "                   '1+ year'],\n",
    "           na_label='no reviews')"
   ]
  },
  {
   "cell_type": "code",
   "execution_count": 269,
   "metadata": {},
   "outputs": [],
   "source": [
    "# Dropping last_review - first_review will be kept for EDA and dropped later\n",
    "df.drop('last_review', axis=1, inplace=True)\n",
    "df.drop('first_review', axis=1, inplace=True)"
   ]
  },
  {
   "cell_type": "markdown",
   "metadata": {},
   "source": [
    "#### check_in_24"
   ]
  },
  {
   "cell_type": "code",
   "execution_count": 270,
   "metadata": {},
   "outputs": [
    {
     "data": {
      "text/plain": [
       "host_response_time               object\n",
       "host_response_rate               object\n",
       "host_is_superhost               float64\n",
       "host_listings_count             float64\n",
       "host_identity_verified          float64\n",
       "neighbourhood_cleansed           object\n",
       "neighbourhood_group_cleansed     object\n",
       "latitude                        float64\n",
       "longitude                       float64\n",
       "property_type                    object\n",
       "room_type                        object\n",
       "accommodates                      int64\n",
       "bathrooms                       float64\n",
       "bedrooms                        float64\n",
       "beds                            float64\n",
       "bed_type                         object\n",
       "price                             int64\n",
       "security_deposit                  int64\n",
       "cleaning_fee                      int64\n",
       "guests_included                   int64\n",
       "extra_people                      int64\n",
       "minimum_nights                    int64\n",
       "maximum_nights                    int64\n",
       "availability_90                   int64\n",
       "number_of_reviews                 int64\n",
       "review_scores_rating            float64\n",
       "review_scores_accuracy          float64\n",
       "review_scores_cleanliness       float64\n",
       "review_scores_checkin           float64\n",
       "review_scores_communication     float64\n",
       "review_scores_location          float64\n",
       "review_scores_value             float64\n",
       "instant_bookable                  int64\n",
       "cancellation_policy              object\n",
       "reviews_per_month               float64\n",
       "host_days_active                float64\n",
       "check_in_24h                    float64\n",
       "balcony                         float64\n",
       "bed_linen                       float64\n",
       "tv                              float64\n",
       "coffee_machine                  float64\n",
       "cooking_basics                  float64\n",
       "white_goods                     float64\n",
       "elevator                        float64\n",
       "child_friendly                  float64\n",
       "parking                         float64\n",
       "host_greeting                   float64\n",
       "internet                        float64\n",
       "long_term_stays                 float64\n",
       "pets_allowed                    float64\n",
       "private_entrance                float64\n",
       "smoking_allowed                 float64\n",
       "time_since_first_review          object\n",
       "time_since_last_review           object\n",
       "dtype: object"
      ]
     },
     "execution_count": 270,
     "metadata": {},
     "output_type": "execute_result"
    }
   ],
   "source": [
    "df.dtypes"
   ]
  },
  {
   "cell_type": "code",
   "execution_count": 271,
   "metadata": {},
   "outputs": [],
   "source": [
    "df.check_in_24h.fillna(\"unknown\", inplace=True)"
   ]
  },
  {
   "cell_type": "code",
   "execution_count": 272,
   "metadata": {},
   "outputs": [
    {
     "data": {
      "text/plain": [
       "unknown    21175\n",
       "1.0         1351\n",
       "Name: check_in_24h, dtype: int64"
      ]
     },
     "execution_count": 272,
     "metadata": {},
     "output_type": "execute_result"
    }
   ],
   "source": [
    "df.check_in_24h.value_counts()"
   ]
  },
  {
   "cell_type": "markdown",
   "metadata": {},
   "source": [
    "#### review rating columns\n",
    "\n",
    "As above, listings without reviews will be kept and replaced with unknown. Other ratings will be grouped into bins. The histograms below were produced in order to decide on useful bins. The majority of ratings are 9 or 10 out of 10, as also seen in the value count below. Therefore for these columns, 9/10 and 10/10 will be kept as separate groups, and 1-8/10 will be binned together (as this is, by Airbnb standards, a 'low' rating)."
   ]
  },
  {
   "cell_type": "code",
   "execution_count": 273,
   "metadata": {},
   "outputs": [
    {
     "data": {
      "image/png": "[encoded data removed]",
      "text/plain": [
       "<Figure size 864x576 with 7 Axes>"
      ]
     },
     "metadata": {
      "needs_background": "light"
     },
     "output_type": "display_data"
    }
   ],
   "source": [
    "# Checking the distributions of the review ratings columns\n",
    "variables_to_plot = list(df.columns[df.columns.str.startswith(\"review_scores\") == True])\n",
    "fig = plt.figure(figsize=(12,8))\n",
    "for i, var_name in enumerate(variables_to_plot):\n",
    "    ax = fig.add_subplot(3,3,i+1)\n",
    "    df[var_name].hist(bins=10,ax=ax)\n",
    "    ax.set_title(var_name)\n",
    "fig.tight_layout()\n",
    "plt.show()"
   ]
  },
  {
   "cell_type": "code",
   "execution_count": 274,
   "metadata": {},
   "outputs": [
    {
     "data": {
      "text/plain": [
       "'review_scores_rating'"
      ]
     },
     "execution_count": 274,
     "metadata": {},
     "output_type": "execute_result"
    }
   ],
   "source": [
    "# Creating a list of all review columns that are scored out of 10\n",
    "variables_to_plot.pop(0)"
   ]
  },
  {
   "cell_type": "code",
   "execution_count": 275,
   "metadata": {},
   "outputs": [],
   "source": [
    "# Binning for all columns scored out of 10\n",
    "for col in variables_to_plot:\n",
    "    bin_column(col,\n",
    "               bins=[0, 8, 9, 10],\n",
    "               labels=['0-8/10', '9/10', '10/10'],\n",
    "               na_label='no reviews')"
   ]
  },
  {
   "cell_type": "code",
   "execution_count": 276,
   "metadata": {},
   "outputs": [],
   "source": [
    "# Binning column scored out of 100\n",
    "bin_column('review_scores_rating',\n",
    "           bins=[0, 80, 95, 100],\n",
    "           labels=['0-79/100', '80-94/100', '95-100/100'],\n",
    "           na_label='no reviews')"
   ]
  },
  {
   "cell_type": "markdown",
   "metadata": {},
   "source": [
    "#### cancellation_policy\n",
    "\n",
    "cleaning required -> less dummies"
   ]
  },
  {
   "cell_type": "code",
   "execution_count": 277,
   "metadata": {},
   "outputs": [
    {
     "data": {
      "text/plain": [
       "flexible                       9083\n",
       "moderate                       7092\n",
       "strict_14_with_grace_period    6284\n",
       "super_strict_30                  53\n",
       "super_strict_60                  14\n",
       "Name: cancellation_policy, dtype: int64"
      ]
     },
     "execution_count": 277,
     "metadata": {},
     "output_type": "execute_result"
    }
   ],
   "source": [
    "df.cancellation_policy.value_counts()"
   ]
  },
  {
   "cell_type": "code",
   "execution_count": 278,
   "metadata": {},
   "outputs": [],
   "source": [
    "df.cancellation_policy.replace({\n",
    "    'super_strict_30':'strict_14_with_grace_period',\n",
    "    'super_strict_60':'strict_14_with_grace_period'\n",
    "},  inplace=True)"
   ]
  },
  {
   "cell_type": "code",
   "execution_count": 279,
   "metadata": {},
   "outputs": [
    {
     "data": {
      "text/plain": [
       "flexible                       9083\n",
       "moderate                       7092\n",
       "strict_14_with_grace_period    6351\n",
       "Name: cancellation_policy, dtype: int64"
      ]
     },
     "execution_count": 279,
     "metadata": {},
     "output_type": "execute_result"
    }
   ],
   "source": [
    "df.cancellation_policy.value_counts()"
   ]
  },
  {
   "cell_type": "code",
   "execution_count": 280,
   "metadata": {},
   "outputs": [],
   "source": [
    "df.drop(['reviews_per_month'], axis=1, inplace=True)"
   ]
  },
  {
   "cell_type": "code",
   "execution_count": 281,
   "metadata": {},
   "outputs": [
    {
     "data": {
      "text/plain": [
       "host_response_time               object\n",
       "host_response_rate               object\n",
       "host_is_superhost               float64\n",
       "host_listings_count             float64\n",
       "host_identity_verified          float64\n",
       "neighbourhood_cleansed           object\n",
       "neighbourhood_group_cleansed     object\n",
       "latitude                        float64\n",
       "longitude                       float64\n",
       "property_type                    object\n",
       "room_type                        object\n",
       "accommodates                      int64\n",
       "bathrooms                       float64\n",
       "bedrooms                        float64\n",
       "beds                            float64\n",
       "bed_type                         object\n",
       "price                             int64\n",
       "security_deposit                  int64\n",
       "cleaning_fee                      int64\n",
       "guests_included                   int64\n",
       "extra_people                      int64\n",
       "minimum_nights                    int64\n",
       "maximum_nights                    int64\n",
       "availability_90                   int64\n",
       "number_of_reviews                 int64\n",
       "review_scores_rating             object\n",
       "review_scores_accuracy           object\n",
       "review_scores_cleanliness        object\n",
       "review_scores_checkin            object\n",
       "review_scores_communication      object\n",
       "review_scores_location           object\n",
       "review_scores_value              object\n",
       "instant_bookable                  int64\n",
       "cancellation_policy              object\n",
       "host_days_active                float64\n",
       "check_in_24h                     object\n",
       "balcony                         float64\n",
       "bed_linen                       float64\n",
       "tv                              float64\n",
       "coffee_machine                  float64\n",
       "cooking_basics                  float64\n",
       "white_goods                     float64\n",
       "elevator                        float64\n",
       "child_friendly                  float64\n",
       "parking                         float64\n",
       "host_greeting                   float64\n",
       "internet                        float64\n",
       "long_term_stays                 float64\n",
       "pets_allowed                    float64\n",
       "private_entrance                float64\n",
       "smoking_allowed                 float64\n",
       "time_since_first_review          object\n",
       "time_since_last_review           object\n",
       "dtype: object"
      ]
     },
     "execution_count": 281,
     "metadata": {},
     "output_type": "execute_result"
    }
   ],
   "source": [
    "df.dtypes"
   ]
  },
  {
   "cell_type": "code",
   "execution_count": 282,
   "metadata": {},
   "outputs": [],
   "source": [
    "# save cleaned dataset\n",
    "listings_cleaned = df.to_csv(r'listings_cleaned.csv', index=id, header=True)\n"
   ]
  },
  {
   "cell_type": "markdown",
   "metadata": {},
   "source": [
    "### Categorial Features"
   ]
  },
  {
   "cell_type": "code",
   "execution_count": 283,
   "metadata": {},
   "outputs": [
    {
     "name": "stdout",
     "output_type": "stream",
     "text": [
      "Counter({'Friedrichshain-Kreuzberg': 5488, 'Mitte': 4625, 'Pankow': 3539, 'Neukölln': 3494, 'Charlottenburg-Wilm.': 1590, 'Tempelhof - Schöneberg': 1560, 'Lichtenberg': 687, 'Treptow - Köpenick': 595, 'Steglitz - Zehlendorf': 437, 'Reinickendorf': 246, 'Marzahn - Hellersdorf': 141, 'Spandau': 124})\n"
     ]
    },
    {
     "data": {
      "image/png": "[encoded data removed]",
      "text/plain": [
       "<Figure size 432x288 with 1 Axes>"
      ]
     },
     "metadata": {
      "needs_background": "light"
     },
     "output_type": "display_data"
    }
   ],
   "source": [
    "nb_counts = Counter(df.neighbourhood_group_cleansed)\n",
    "df_nb = pd.DataFrame.from_dict(nb_counts, orient='index').sort_values(by=0)\n",
    "print(nb_counts)\n",
    "df_nb.plot(kind='bar')\n",
    "plt.show()"
   ]
  },
  {
   "cell_type": "code",
   "execution_count": 284,
   "metadata": {},
   "outputs": [
    {
     "name": "stdout",
     "output_type": "stream",
     "text": [
      "Counter({'Tempelhofer Vorstadt': 1322, 'Frankfurter Allee Süd FK': 1280, 'Alexanderplatz': 1089, 'Reuterstraße': 999, 'Rixdorf': 880, 'Neuköllner Mitte/Zentrum': 795, 'Brunnenstr. Süd': 773, 'Frankfurter Allee Nord': 735, 'Schillerpromenade': 662, 'südliche Luisenstadt': 642, 'Prenzlauer Berg Nordwest': 622, 'Prenzlauer Berg Südwest': 618, 'Schöneberg-Nord': 567, 'Prenzlauer Berg Süd': 555, 'Wedding Zentrum': 517, 'Moabit West': 489, 'nördliche Luisenstadt': 484, 'Schöneberg-Süd': 474, 'Helmholtzplatz': 459, 'Prenzlauer Berg Nord': 411, 'Südliche Friedrichstadt': 389, 'Moabit Ost': 377, 'Karl-Marx-Allee-Süd': 363, 'Parkviertel': 354, 'Osloer Straße': 346, 'Brunnenstr. Nord': 279, 'Karl-Marx-Allee-Nord': 273, 'Tempelhof': 268, 'Prenzlauer Berg Ost': 241, 'Neu Lichtenberg': 236, 'Regierungsviertel': 213, 'Volkspark Wilmersdorf': 200, 'Tiergarten Süd': 188, 'Pankow Süd': 182, 'Düsseldorfer Straße': 182, 'Weißensee': 179, 'Alt  Treptow': 169, 'Friedenau': 168, 'Neue Kantstraße': 160, 'Kantstraße': 155, 'Otto-Suhr-Allee': 154, 'Alt-Lichtenberg': 138, 'Schloß Charlottenburg': 135, 'Kurfürstendamm': 121, 'Pankow Zentrum': 115, 'Albrechtstr.': 102, 'Baumschulenweg': 86, 'Westend': 84, 'Mierendorffplatz': 78, 'Halensee': 76, 'Drakestr.': 70, 'Barstraße': 70, 'Zehlendorf  Nord': 66, 'Britz': 63, 'Schloßstr.': 60, 'Fennpfuhl': 59, 'Ost 2': 57, 'Plänterwald': 55, 'Karlshorst': 54, 'Grunewald': 52, 'Blankenfelde/Niederschönhausen': 51, 'Frankfurter Allee Süd': 49, 'Wiesbadener Straße': 48, 'Ost 1': 48, 'Oberschöneweide': 48, 'Teltower Damm': 46, 'Mariendorf': 46, 'Alt-Hohenschönhausen Süd': 44, 'Heerstrasse': 41, 'Zehlendorf  Südwest': 40, 'Köllnische Heide': 36, 'West 4': 35, 'Friedrichsfelde Nord': 34, 'Marzahn-Süd': 34, 'Rudow': 33, 'Wilhelmstadt': 33, 'Biesdorf': 32, 'Rummelsburger Bucht': 31, 'Mahlsdorf': 31, 'Lichtenrade': 29, 'Rahnsdorf/Hessenwinkel': 29, 'Ostpreußendamm': 27, 'Weißensee Ost': 27, 'Adlershof': 27, 'Lankwitz': 26, 'Schönholz/Wilhelmsruh/Rosenthal': 26, 'Friedrichshagen': 25, 'Johannisthal': 24, 'Nord 1': 24, 'Gatow / Kladow': 23, 'Dammvorstadt': 23, 'Friedrichsfelde Süd': 23, 'Niederschöneweide': 20, 'Spandau Mitte': 20, 'Schmargendorf': 19, 'Altglienicke': 18, 'Schmöckwitz/Karolinenhof/Rauchfangswerder': 17, 'Nord 2': 17, 'Kaulsdorf': 17, 'Blankenburg/Heinersdorf/Märchenland': 16, 'Buchholz': 16, 'West 1': 15, 'West 2': 15, 'Charlottenburg Nord': 15, 'West 3': 13, 'Köpenick-Nord': 13, 'Brunsbütteler Damm': 13, 'West 5': 12, 'Karow': 12, 'Gropiusstadt': 12, 'Buckow': 11, 'Grünau': 11, 'Hellersdorf-Süd': 10, 'Alt-Hohenschönhausen Nord': 9, 'Hellersdorf-Nord': 9, 'MV 1': 9, 'Buch': 9, 'Falkenhagener Feld': 9, 'Marienfelde': 8, 'Bohnsdorf': 8, 'Siemensstadt': 8, 'Hakenfelde': 8, 'Heerstraße Nord': 7, 'Marzahn-Mitte': 7, 'Köpenick-Süd': 6, 'Müggelheim': 5, 'Neu-Hohenschönhausen Nord': 5, 'Altstadt-Kietz': 4, 'Kölln. Vorstadt/Spindlersf.': 4, 'Buckow Nord': 3, 'Haselhorst': 3, 'Malchow, Wartenberg und Falkenberg': 3, 'Allende-Viertel': 3, 'Neu-Hohenschönhausen Süd': 2, 'MV 2': 1, 'Hellersdorf-Ost': 1})\n"
     ]
    },
    {
     "data": {
      "image/png": "[encoded data removed]",
      "text/plain": [
       "<Figure size 432x288 with 1 Axes>"
      ]
     },
     "metadata": {
      "needs_background": "light"
     },
     "output_type": "display_data"
    }
   ],
   "source": [
    "nb_counts = Counter(df.neighbourhood_cleansed)\n",
    "df_nb = pd.DataFrame.from_dict(nb_counts, orient='index').sort_values(by=0)\n",
    "print(nb_counts)\n",
    "df_nb.plot(kind='bar')\n",
    "plt.show()\n"
   ]
  },
  {
   "cell_type": "markdown",
   "metadata": {},
   "source": [
    "yep, we will only keep the neighbourhood_group_cleansed attribute"
   ]
  },
  {
   "cell_type": "code",
   "execution_count": 285,
   "metadata": {},
   "outputs": [],
   "source": [
    "df.drop(['neighbourhood_cleansed'], axis=1, inplace=True)"
   ]
  },
  {
   "cell_type": "code",
   "execution_count": 286,
   "metadata": {},
   "outputs": [
    {
     "data": {
      "text/plain": [
       "host_response_time               object\n",
       "host_response_rate               object\n",
       "host_is_superhost               float64\n",
       "host_listings_count             float64\n",
       "host_identity_verified          float64\n",
       "neighbourhood_group_cleansed     object\n",
       "latitude                        float64\n",
       "longitude                       float64\n",
       "property_type                    object\n",
       "room_type                        object\n",
       "accommodates                      int64\n",
       "bathrooms                       float64\n",
       "bedrooms                        float64\n",
       "beds                            float64\n",
       "bed_type                         object\n",
       "price                             int64\n",
       "security_deposit                  int64\n",
       "cleaning_fee                      int64\n",
       "guests_included                   int64\n",
       "extra_people                      int64\n",
       "minimum_nights                    int64\n",
       "maximum_nights                    int64\n",
       "availability_90                   int64\n",
       "number_of_reviews                 int64\n",
       "review_scores_rating             object\n",
       "review_scores_accuracy           object\n",
       "review_scores_cleanliness        object\n",
       "review_scores_checkin            object\n",
       "review_scores_communication      object\n",
       "review_scores_location           object\n",
       "review_scores_value              object\n",
       "instant_bookable                  int64\n",
       "cancellation_policy              object\n",
       "host_days_active                float64\n",
       "check_in_24h                     object\n",
       "balcony                         float64\n",
       "bed_linen                       float64\n",
       "tv                              float64\n",
       "coffee_machine                  float64\n",
       "cooking_basics                  float64\n",
       "white_goods                     float64\n",
       "elevator                        float64\n",
       "child_friendly                  float64\n",
       "parking                         float64\n",
       "host_greeting                   float64\n",
       "internet                        float64\n",
       "long_term_stays                 float64\n",
       "pets_allowed                    float64\n",
       "private_entrance                float64\n",
       "smoking_allowed                 float64\n",
       "time_since_first_review          object\n",
       "time_since_last_review           object\n",
       "dtype: object"
      ]
     },
     "execution_count": 286,
     "metadata": {},
     "output_type": "execute_result"
    }
   ],
   "source": [
    "df.dtypes"
   ]
  },
  {
   "cell_type": "markdown",
   "metadata": {},
   "source": [
    "The machine-learning algorithm only works with numerical data. Therefore we have to transform all of the categorial attributes. This is done with \"one hot encoding\". "
   ]
  },
  {
   "cell_type": "code",
   "execution_count": 287,
   "metadata": {},
   "outputs": [],
   "source": [
    "transformed_df = pd.get_dummies(df)"
   ]
  },
  {
   "cell_type": "code",
   "execution_count": 288,
   "metadata": {},
   "outputs": [
    {
     "data": {
      "text/plain": [
       "host_is_superhost                     float64\n",
       "host_listings_count                   float64\n",
       "host_identity_verified                float64\n",
       "latitude                              float64\n",
       "longitude                             float64\n",
       "                                       ...   \n",
       "time_since_last_review_1+ year          uint8\n",
       "time_since_last_review_2-6 months       uint8\n",
       "time_since_last_review_2-8 weeks        uint8\n",
       "time_since_last_review_6-12 months      uint8\n",
       "time_since_last_review_nan              uint8\n",
       "Length: 110, dtype: object"
      ]
     },
     "execution_count": 288,
     "metadata": {},
     "output_type": "execute_result"
    }
   ],
   "source": [
    "transformed_df.dtypes"
   ]
  },
  {
   "cell_type": "markdown",
   "metadata": {},
   "source": [
    "### Check for multicollinearity of features:\n",
    "\n",
    "In statistics, multicollinearity (also collinearity) is a phenomenon in which one predictor variable in a multiple regression model can be linearly predicted from the others with a substantial degree of accuracy. In this situation the coefficient estimates of the multiple regression may change erratically in response to small changes in the model or the data. Multicollinearity does not reduce the predictive power or reliability of the model as a whole, at least within the sample data set; it only affects calculations regarding individual predictors. \n",
    "\n",
    "\n",
    "The seaborn module seems to be broken, therefore we will just drop the Attributes which  Graciela Carrillos identified"
   ]
  },
  {
   "cell_type": "code",
   "execution_count": 289,
   "metadata": {},
   "outputs": [
    {
     "data": {
      "text/plain": [
       "host_is_superhost                                        0\n",
       "host_listings_count                                      0\n",
       "host_identity_verified                                   0\n",
       "latitude                                                 0\n",
       "longitude                                                0\n",
       "accommodates                                             0\n",
       "bathrooms                                                0\n",
       "bedrooms                                                 0\n",
       "beds                                                     0\n",
       "price                                                    0\n",
       "security_deposit                                         0\n",
       "cleaning_fee                                             0\n",
       "guests_included                                          0\n",
       "extra_people                                             0\n",
       "minimum_nights                                           0\n",
       "maximum_nights                                           0\n",
       "availability_90                                          0\n",
       "number_of_reviews                                        0\n",
       "instant_bookable                                         0\n",
       "host_days_active                                         0\n",
       "balcony                                                  0\n",
       "bed_linen                                                0\n",
       "tv                                                       0\n",
       "coffee_machine                                           0\n",
       "cooking_basics                                           0\n",
       "white_goods                                              0\n",
       "elevator                                                 0\n",
       "child_friendly                                           0\n",
       "parking                                                  0\n",
       "host_greeting                                            0\n",
       "internet                                                 0\n",
       "long_term_stays                                          0\n",
       "pets_allowed                                             0\n",
       "private_entrance                                         0\n",
       "smoking_allowed                                          0\n",
       "host_response_time_a few days or more                    0\n",
       "host_response_time_unknown                               0\n",
       "host_response_time_within a day                          0\n",
       "host_response_time_within a few hours                    0\n",
       "host_response_time_within an hour                        0\n",
       "host_response_rate_0-49%                                 0\n",
       "host_response_rate_100%                                  0\n",
       "host_response_rate_50-89%                                0\n",
       "host_response_rate_90-99%                                0\n",
       "host_response_rate_unknown                               0\n",
       "neighbourhood_group_cleansed_Charlottenburg-Wilm.        0\n",
       "neighbourhood_group_cleansed_Friedrichshain-Kreuzberg    0\n",
       "neighbourhood_group_cleansed_Lichtenberg                 0\n",
       "neighbourhood_group_cleansed_Marzahn - Hellersdorf       0\n",
       "neighbourhood_group_cleansed_Mitte                       0\n",
       "neighbourhood_group_cleansed_Neukölln                    0\n",
       "neighbourhood_group_cleansed_Pankow                      0\n",
       "neighbourhood_group_cleansed_Reinickendorf               0\n",
       "neighbourhood_group_cleansed_Spandau                     0\n",
       "neighbourhood_group_cleansed_Steglitz - Zehlendorf       0\n",
       "neighbourhood_group_cleansed_Tempelhof - Schöneberg      0\n",
       "neighbourhood_group_cleansed_Treptow - Köpenick          0\n",
       "property_type_Apartment                                  0\n",
       "property_type_House                                      0\n",
       "property_type_Other                                      0\n",
       "room_type_Entire home/apt                                0\n",
       "room_type_Private room                                   0\n",
       "room_type_Shared room                                    0\n",
       "bed_type_Couch                                           0\n",
       "bed_type_Real Bed                                        0\n",
       "review_scores_rating_0-79/100                            0\n",
       "review_scores_rating_80-94/100                           0\n",
       "review_scores_rating_95-100/100                          0\n",
       "review_scores_rating_nan                                 0\n",
       "review_scores_accuracy_0-8/10                            0\n",
       "review_scores_accuracy_10/10                             0\n",
       "review_scores_accuracy_9/10                              0\n",
       "review_scores_accuracy_nan                               0\n",
       "review_scores_cleanliness_0-8/10                         0\n",
       "review_scores_cleanliness_10/10                          0\n",
       "review_scores_cleanliness_9/10                           0\n",
       "review_scores_cleanliness_nan                            0\n",
       "review_scores_checkin_0-8/10                             0\n",
       "review_scores_checkin_10/10                              0\n",
       "review_scores_checkin_9/10                               0\n",
       "review_scores_checkin_nan                                0\n",
       "review_scores_communication_0-8/10                       0\n",
       "review_scores_communication_10/10                        0\n",
       "review_scores_communication_9/10                         0\n",
       "review_scores_communication_nan                          0\n",
       "review_scores_location_0-8/10                            0\n",
       "review_scores_location_10/10                             0\n",
       "review_scores_location_9/10                              0\n",
       "review_scores_location_nan                               0\n",
       "review_scores_value_0-8/10                               0\n",
       "review_scores_value_10/10                                0\n",
       "review_scores_value_9/10                                 0\n",
       "review_scores_value_nan                                  0\n",
       "cancellation_policy_flexible                             0\n",
       "cancellation_policy_moderate                             0\n",
       "cancellation_policy_strict_14_with_grace_period          0\n",
       "check_in_24h_1.0                                         0\n",
       "check_in_24h_unknown                                     0\n",
       "time_since_first_review_0-6 months                       0\n",
       "time_since_first_review_1-2 years                        0\n",
       "time_since_first_review_2-3 years                        0\n",
       "time_since_first_review_4+ years                         0\n",
       "time_since_first_review_6-12 months                      0\n",
       "time_since_first_review_nan                              0\n",
       "time_since_last_review_0-2 weeks                         0\n",
       "time_since_last_review_1+ year                           0\n",
       "time_since_last_review_2-6 months                        0\n",
       "time_since_last_review_2-8 weeks                         0\n",
       "time_since_last_review_6-12 months                       0\n",
       "time_since_last_review_nan                               0\n",
       "dtype: int64"
      ]
     },
     "execution_count": 289,
     "metadata": {},
     "output_type": "execute_result"
    }
   ],
   "source": [
    "pd.set_option('display.max_rows', 3100)\n",
    "\n",
    "transformed_df.isna().sum()\n"
   ]
  },
  {
   "cell_type": "code",
   "execution_count": 290,
   "metadata": {},
   "outputs": [],
   "source": [
    "collinearity_df = transformed_df.astype('int64').dtypes"
   ]
  },
  {
   "cell_type": "code",
   "execution_count": 70,
   "metadata": {},
   "outputs": [],
   "source": [
    "def multi_collinearity_heatmap(df, figsize=(11,9)):\n",
    "    \n",
    "    \"\"\"\n",
    "    Creates a heatmap of correlations between features in the df. A figure size can optionally be set.\n",
    "    \"\"\"\n",
    "    \n",
    "    # Set the style of the visualization\n",
    "    sns.set(style=\"white\")\n",
    "\n",
    "    # Create a covariance matrix\n",
    "    corr = df.corr()\n",
    "\n",
    "    # Generate a mask the size of our covariance matrix\n",
    "    mask = np.zeros_like(corr, dtype=np.bool)\n",
    "    mask[np.triu_indices_from(mask)] = True\n",
    "\n",
    "    # Set up the matplotlib figure\n",
    "    f, ax = plt.subplots(figsize=figsize)\n",
    "\n",
    "    # Generate a custom diverging colormap\n",
    "    cmap = sns.diverging_palette(220, 10, as_cmap=True)\n",
    "\n",
    "    # Draw the heatmap with the mask and correct aspect ratio\n",
    "    sns.heatmap(corr, mask=mask, cmap=cmap, center=0, square=True, linewidths=.5, cbar_kws={\"shrink\": .5}, vmax=corr[corr != 1.0].max().max());"
   ]
  },
  {
   "cell_type": "code",
   "execution_count": 71,
   "metadata": {},
   "outputs": [
    {
     "ename": "TypeError",
     "evalue": "corr() missing 1 required positional argument: 'other'",
     "output_type": "error",
     "traceback": [
      "\u001b[0;31m---------------------------------------------------------------------------\u001b[0m",
      "\u001b[0;31mTypeError\u001b[0m                                 Traceback (most recent call last)",
      "\u001b[0;32m<ipython-input-71-a9ea4d443bd4>\u001b[0m in \u001b[0;36m<module>\u001b[0;34m\u001b[0m\n\u001b[0;32m----> 1\u001b[0;31m \u001b[0mmulti_collinearity_heatmap\u001b[0m\u001b[0;34m(\u001b[0m\u001b[0mcollinearity_df\u001b[0m\u001b[0;34m,\u001b[0m \u001b[0mfigsize\u001b[0m\u001b[0;34m=\u001b[0m\u001b[0;34m(\u001b[0m\u001b[0;36m20\u001b[0m\u001b[0;34m,\u001b[0m\u001b[0;36m20\u001b[0m\u001b[0;34m)\u001b[0m\u001b[0;34m)\u001b[0m\u001b[0;34m\u001b[0m\u001b[0;34m\u001b[0m\u001b[0m\n\u001b[0m",
      "\u001b[0;32m<ipython-input-70-2af8cee95df0>\u001b[0m in \u001b[0;36mmulti_collinearity_heatmap\u001b[0;34m(df, figsize)\u001b[0m\n\u001b[1;32m      9\u001b[0m \u001b[0;34m\u001b[0m\u001b[0m\n\u001b[1;32m     10\u001b[0m     \u001b[0;31m# Create a covariance matrix\u001b[0m\u001b[0;34m\u001b[0m\u001b[0;34m\u001b[0m\u001b[0;34m\u001b[0m\u001b[0m\n\u001b[0;32m---> 11\u001b[0;31m     \u001b[0mcorr\u001b[0m \u001b[0;34m=\u001b[0m \u001b[0mdf\u001b[0m\u001b[0;34m.\u001b[0m\u001b[0mcorr\u001b[0m\u001b[0;34m(\u001b[0m\u001b[0;34m)\u001b[0m\u001b[0;34m\u001b[0m\u001b[0;34m\u001b[0m\u001b[0m\n\u001b[0m\u001b[1;32m     12\u001b[0m \u001b[0;34m\u001b[0m\u001b[0m\n\u001b[1;32m     13\u001b[0m     \u001b[0;31m# Generate a mask the size of our covariance matrix\u001b[0m\u001b[0;34m\u001b[0m\u001b[0;34m\u001b[0m\u001b[0;34m\u001b[0m\u001b[0m\n",
      "\u001b[0;31mTypeError\u001b[0m: corr() missing 1 required positional argument: 'other'"
     ]
    }
   ],
   "source": [
    "\n",
    "multi_collinearity_heatmap(collinearity_df, figsize=(20,20))"
   ]
  },
  {
   "cell_type": "code",
   "execution_count": 291,
   "metadata": {},
   "outputs": [],
   "source": [
    "# Dropping collinear features\n",
    "to_drop = ['beds',\n",
    "           'bedrooms',\n",
    "           'guests_included', \n",
    "           'host_response_rate_unknown',\n",
    "           'host_response_rate_0-49%',\n",
    "           'property_type_Apartment',\n",
    "           'room_type_Private room']\n",
    "to_drop.extend(list(transformed_df.columns[transformed_df.columns.str.endswith('nan')]))\n",
    "\n",
    "transformed_df.drop(to_drop, axis=1, inplace=True)"
   ]
  },
  {
   "cell_type": "markdown",
   "metadata": {},
   "source": [
    "#### Add the location feature \n",
    "\n",
    "\n",
    "The accessibility for the listings was determined in an other notebook. Here we will just merge the two dataframes"
   ]
  },
  {
   "cell_type": "code",
   "execution_count": 292,
   "metadata": {},
   "outputs": [],
   "source": [
    "access_dir = r'./Berlin_Data/Berlin_Listings_Final.csv'\n",
    "access_df = pd.read_csv(access_dir)"
   ]
  },
  {
   "cell_type": "code",
   "execution_count": 293,
   "metadata": {},
   "outputs": [],
   "source": [
    "access_df.drop(access_df.columns.difference(['id','Score_Amenities','Score_Sights', \n",
    "                                             'Score_Parks']), axis= 1, inplace=True)"
   ]
  },
  {
   "cell_type": "code",
   "execution_count": 294,
   "metadata": {},
   "outputs": [
    {
     "data": {
      "text/plain": [
       "id                   int64\n",
       "Score_Amenities    float64\n",
       "Score_Sights       float64\n",
       "Score_Parks        float64\n",
       "dtype: object"
      ]
     },
     "execution_count": 294,
     "metadata": {},
     "output_type": "execute_result"
    }
   ],
   "source": [
    "access_df.dtypes"
   ]
  },
  {
   "cell_type": "code",
   "execution_count": 295,
   "metadata": {},
   "outputs": [],
   "source": [
    "# merge\n",
    "\n",
    "merged_df =  pd.merge(transformed_df, access_df, on='id')"
   ]
  },
  {
   "cell_type": "code",
   "execution_count": 296,
   "metadata": {},
   "outputs": [
    {
     "data": {
      "text/plain": [
       "id                                                         int64\n",
       "host_is_superhost                                        float64\n",
       "host_listings_count                                      float64\n",
       "host_identity_verified                                   float64\n",
       "latitude                                                 float64\n",
       "longitude                                                float64\n",
       "accommodates                                               int64\n",
       "bathrooms                                                float64\n",
       "price                                                      int64\n",
       "security_deposit                                           int64\n",
       "cleaning_fee                                               int64\n",
       "extra_people                                               int64\n",
       "minimum_nights                                             int64\n",
       "maximum_nights                                             int64\n",
       "availability_90                                            int64\n",
       "number_of_reviews                                          int64\n",
       "instant_bookable                                           int64\n",
       "host_days_active                                         float64\n",
       "balcony                                                  float64\n",
       "bed_linen                                                float64\n",
       "tv                                                       float64\n",
       "coffee_machine                                           float64\n",
       "cooking_basics                                           float64\n",
       "white_goods                                              float64\n",
       "elevator                                                 float64\n",
       "child_friendly                                           float64\n",
       "parking                                                  float64\n",
       "host_greeting                                            float64\n",
       "internet                                                 float64\n",
       "long_term_stays                                          float64\n",
       "pets_allowed                                             float64\n",
       "private_entrance                                         float64\n",
       "smoking_allowed                                          float64\n",
       "host_response_time_a few days or more                      uint8\n",
       "host_response_time_unknown                                 uint8\n",
       "host_response_time_within a day                            uint8\n",
       "host_response_time_within a few hours                      uint8\n",
       "host_response_time_within an hour                          uint8\n",
       "host_response_rate_100%                                    uint8\n",
       "host_response_rate_50-89%                                  uint8\n",
       "host_response_rate_90-99%                                  uint8\n",
       "neighbourhood_group_cleansed_Charlottenburg-Wilm.          uint8\n",
       "neighbourhood_group_cleansed_Friedrichshain-Kreuzberg      uint8\n",
       "neighbourhood_group_cleansed_Lichtenberg                   uint8\n",
       "neighbourhood_group_cleansed_Marzahn - Hellersdorf         uint8\n",
       "neighbourhood_group_cleansed_Mitte                         uint8\n",
       "neighbourhood_group_cleansed_Neukölln                      uint8\n",
       "neighbourhood_group_cleansed_Pankow                        uint8\n",
       "neighbourhood_group_cleansed_Reinickendorf                 uint8\n",
       "neighbourhood_group_cleansed_Spandau                       uint8\n",
       "neighbourhood_group_cleansed_Steglitz - Zehlendorf         uint8\n",
       "neighbourhood_group_cleansed_Tempelhof - Schöneberg        uint8\n",
       "neighbourhood_group_cleansed_Treptow - Köpenick            uint8\n",
       "property_type_House                                        uint8\n",
       "property_type_Other                                        uint8\n",
       "room_type_Entire home/apt                                  uint8\n",
       "room_type_Shared room                                      uint8\n",
       "bed_type_Couch                                             uint8\n",
       "bed_type_Real Bed                                          uint8\n",
       "review_scores_rating_0-79/100                              uint8\n",
       "review_scores_rating_80-94/100                             uint8\n",
       "review_scores_rating_95-100/100                            uint8\n",
       "review_scores_accuracy_0-8/10                              uint8\n",
       "review_scores_accuracy_10/10                               uint8\n",
       "review_scores_accuracy_9/10                                uint8\n",
       "review_scores_cleanliness_0-8/10                           uint8\n",
       "review_scores_cleanliness_10/10                            uint8\n",
       "review_scores_cleanliness_9/10                             uint8\n",
       "review_scores_checkin_0-8/10                               uint8\n",
       "review_scores_checkin_10/10                                uint8\n",
       "review_scores_checkin_9/10                                 uint8\n",
       "review_scores_communication_0-8/10                         uint8\n",
       "review_scores_communication_10/10                          uint8\n",
       "review_scores_communication_9/10                           uint8\n",
       "review_scores_location_0-8/10                              uint8\n",
       "review_scores_location_10/10                               uint8\n",
       "review_scores_location_9/10                                uint8\n",
       "review_scores_value_0-8/10                                 uint8\n",
       "review_scores_value_10/10                                  uint8\n",
       "review_scores_value_9/10                                   uint8\n",
       "cancellation_policy_flexible                               uint8\n",
       "cancellation_policy_moderate                               uint8\n",
       "cancellation_policy_strict_14_with_grace_period            uint8\n",
       "check_in_24h_1.0                                           uint8\n",
       "check_in_24h_unknown                                       uint8\n",
       "time_since_first_review_0-6 months                         uint8\n",
       "time_since_first_review_1-2 years                          uint8\n",
       "time_since_first_review_2-3 years                          uint8\n",
       "time_since_first_review_4+ years                           uint8\n",
       "time_since_first_review_6-12 months                        uint8\n",
       "time_since_last_review_0-2 weeks                           uint8\n",
       "time_since_last_review_1+ year                             uint8\n",
       "time_since_last_review_2-6 months                          uint8\n",
       "time_since_last_review_2-8 weeks                           uint8\n",
       "time_since_last_review_6-12 months                         uint8\n",
       "Score_Amenities                                          float64\n",
       "Score_Sights                                             float64\n",
       "Score_Parks                                              float64\n",
       "dtype: object"
      ]
     },
     "execution_count": 296,
     "metadata": {},
     "output_type": "execute_result"
    }
   ],
   "source": [
    "merged_df.dtypes"
   ]
  },
  {
   "cell_type": "code",
   "execution_count": 297,
   "metadata": {},
   "outputs": [],
   "source": [
    "# save dataset\n",
    "\n",
    "listings_cleaned_score = merged_df.to_csv(r'listings_cleaned_score.csv', index=id, header=True)\n"
   ]
  },
  {
   "cell_type": "markdown",
   "metadata": {},
   "source": [
    "### Normalize Dataset"
   ]
  },
  {
   "cell_type": "code",
   "execution_count": 298,
   "metadata": {},
   "outputs": [],
   "source": [
    "# load dataset\n",
    "df_final = pd.read_csv('listings_cleaned_score.csv')"
   ]
  },
  {
   "cell_type": "code",
   "execution_count": 299,
   "metadata": {},
   "outputs": [
    {
     "data": {
      "text/plain": [
       "99"
      ]
     },
     "execution_count": 299,
     "metadata": {},
     "output_type": "execute_result"
    }
   ],
   "source": [
    "df_final.dtypes\n",
    "df_final.shape[1]"
   ]
  },
  {
   "cell_type": "code",
   "execution_count": 300,
   "metadata": {},
   "outputs": [],
   "source": [
    "numerical_columns = ['Score_Parks','Score_Sights','Score_Amenities','accommodates', 'availability_90', 'bathrooms',\n",
    "                     'cleaning_fee', 'extra_people', 'host_days_active', \n",
    "                     'host_listings_count', 'maximum_nights', 'minimum_nights', \n",
    "                     'number_of_reviews', 'price', 'security_deposit']"
   ]
  },
  {
   "cell_type": "markdown",
   "metadata": {},
   "source": [
    "Other than Score_parks, Score_Sights, availability_90 and host_days_active, the remaining numerical features are all postively skewed and could benefit from log transformation.\n",
    "\n",
    "\n",
    "Transforms are usually applied so that the data appear to more closely meet the assumptions of a statistical inference procedure that is to be applied, or to improve the interpretability or appearance of graphs."
   ]
  },
  {
   "cell_type": "code",
   "execution_count": 301,
   "metadata": {},
   "outputs": [
    {
     "data": {
      "image/png": "[encoded data removed]",
      "text/plain": [
       "<Figure size 720x792 with 16 Axes>"
      ]
     },
     "metadata": {
      "needs_background": "light"
     },
     "output_type": "display_data"
    }
   ],
   "source": [
    "df_final[numerical_columns].hist(figsize=(10,11));\n"
   ]
  },
  {
   "cell_type": "code",
   "execution_count": 302,
   "metadata": {},
   "outputs": [],
   "source": [
    "\n",
    "# log transformation\n",
    "numerical_columns = [i for i in numerical_columns \n",
    "                     if i not in ['Score_Sights','Score_Amenities','availability_90', 'host_days_active']] # Removing items not to be transformed\n",
    "\n",
    "for col in numerical_columns:\n",
    "    df_final[col] = df_final[col].astype('float64').replace(0.0, 0.01) # Replacing 0s with 0.01\n",
    "    df_final[col] = np.log(df_final[col])"
   ]
  },
  {
   "cell_type": "markdown",
   "metadata": {},
   "source": [
    "This appears to have helped some of the distributions, although some (e.g. cleaning_fee, extra_people fee and security_fee) contain a large number of 0s, which means these features are not normally distributed. Most importantly, however, the target variable price now appears much more normally distributed (kind of)."
   ]
  },
  {
   "cell_type": "code",
   "execution_count": 303,
   "metadata": {},
   "outputs": [
    {
     "data": {
      "image/png": "[encoded data removed]",
      "text/plain": [
       "<Figure size 720x792 with 12 Axes>"
      ]
     },
     "metadata": {
      "needs_background": "light"
     },
     "output_type": "display_data"
    }
   ],
   "source": [
    "df_final[numerical_columns].hist(figsize=(10,11));"
   ]
  },
  {
   "cell_type": "code",
   "execution_count": 304,
   "metadata": {},
   "outputs": [],
   "source": [
    "\n",
    "save = df_final.to_csv(r'listings_normalized.csv', index=id, header=True)\n"
   ]
  },
  {
   "cell_type": "markdown",
   "metadata": {},
   "source": [
    "#### Get rid of unneccessary attributes"
   ]
  },
  {
   "cell_type": "code",
   "execution_count": 305,
   "metadata": {},
   "outputs": [
    {
     "data": {
      "text/html": [
       "<div>\n",
       "<style scoped>\n",
       "    .dataframe tbody tr th:only-of-type {\n",
       "        vertical-align: middle;\n",
       "    }\n",
       "\n",
       "    .dataframe tbody tr th {\n",
       "        vertical-align: top;\n",
       "    }\n",
       "\n",
       "    .dataframe thead th {\n",
       "        text-align: right;\n",
       "    }\n",
       "</style>\n",
       "<table border=\"1\" class=\"dataframe\">\n",
       "  <thead>\n",
       "    <tr style=\"text-align: right;\">\n",
       "      <th></th>\n",
       "      <th>host_is_superhost</th>\n",
       "      <th>host_listings_count</th>\n",
       "      <th>host_identity_verified</th>\n",
       "      <th>latitude</th>\n",
       "      <th>longitude</th>\n",
       "      <th>accommodates</th>\n",
       "      <th>bathrooms</th>\n",
       "      <th>price</th>\n",
       "      <th>security_deposit</th>\n",
       "      <th>cleaning_fee</th>\n",
       "      <th>extra_people</th>\n",
       "      <th>minimum_nights</th>\n",
       "      <th>maximum_nights</th>\n",
       "      <th>availability_90</th>\n",
       "      <th>number_of_reviews</th>\n",
       "      <th>instant_bookable</th>\n",
       "      <th>host_days_active</th>\n",
       "      <th>balcony</th>\n",
       "      <th>bed_linen</th>\n",
       "      <th>tv</th>\n",
       "      <th>coffee_machine</th>\n",
       "      <th>cooking_basics</th>\n",
       "      <th>white_goods</th>\n",
       "      <th>elevator</th>\n",
       "      <th>child_friendly</th>\n",
       "      <th>parking</th>\n",
       "      <th>host_greeting</th>\n",
       "      <th>internet</th>\n",
       "      <th>long_term_stays</th>\n",
       "      <th>pets_allowed</th>\n",
       "      <th>private_entrance</th>\n",
       "      <th>smoking_allowed</th>\n",
       "      <th>host_response_time_a few days or more</th>\n",
       "      <th>host_response_time_unknown</th>\n",
       "      <th>host_response_time_within a day</th>\n",
       "      <th>host_response_time_within a few hours</th>\n",
       "      <th>host_response_time_within an hour</th>\n",
       "      <th>host_response_rate_100%</th>\n",
       "      <th>host_response_rate_50-89%</th>\n",
       "      <th>host_response_rate_90-99%</th>\n",
       "      <th>neighbourhood_group_cleansed_Charlottenburg-Wilm.</th>\n",
       "      <th>neighbourhood_group_cleansed_Friedrichshain-Kreuzberg</th>\n",
       "      <th>neighbourhood_group_cleansed_Lichtenberg</th>\n",
       "      <th>neighbourhood_group_cleansed_Marzahn - Hellersdorf</th>\n",
       "      <th>neighbourhood_group_cleansed_Mitte</th>\n",
       "      <th>neighbourhood_group_cleansed_Neukölln</th>\n",
       "      <th>neighbourhood_group_cleansed_Pankow</th>\n",
       "      <th>neighbourhood_group_cleansed_Reinickendorf</th>\n",
       "      <th>...</th>\n",
       "      <th>neighbourhood_group_cleansed_Steglitz - Zehlendorf</th>\n",
       "      <th>neighbourhood_group_cleansed_Tempelhof - Schöneberg</th>\n",
       "      <th>neighbourhood_group_cleansed_Treptow - Köpenick</th>\n",
       "      <th>property_type_House</th>\n",
       "      <th>property_type_Other</th>\n",
       "      <th>room_type_Entire home/apt</th>\n",
       "      <th>room_type_Shared room</th>\n",
       "      <th>bed_type_Couch</th>\n",
       "      <th>bed_type_Real Bed</th>\n",
       "      <th>review_scores_rating_0-79/100</th>\n",
       "      <th>review_scores_rating_80-94/100</th>\n",
       "      <th>review_scores_rating_95-100/100</th>\n",
       "      <th>review_scores_accuracy_0-8/10</th>\n",
       "      <th>review_scores_accuracy_10/10</th>\n",
       "      <th>review_scores_accuracy_9/10</th>\n",
       "      <th>review_scores_cleanliness_0-8/10</th>\n",
       "      <th>review_scores_cleanliness_10/10</th>\n",
       "      <th>review_scores_cleanliness_9/10</th>\n",
       "      <th>review_scores_checkin_0-8/10</th>\n",
       "      <th>review_scores_checkin_10/10</th>\n",
       "      <th>review_scores_checkin_9/10</th>\n",
       "      <th>review_scores_communication_0-8/10</th>\n",
       "      <th>review_scores_communication_10/10</th>\n",
       "      <th>review_scores_communication_9/10</th>\n",
       "      <th>review_scores_location_0-8/10</th>\n",
       "      <th>review_scores_location_10/10</th>\n",
       "      <th>review_scores_location_9/10</th>\n",
       "      <th>review_scores_value_0-8/10</th>\n",
       "      <th>review_scores_value_10/10</th>\n",
       "      <th>review_scores_value_9/10</th>\n",
       "      <th>cancellation_policy_flexible</th>\n",
       "      <th>cancellation_policy_moderate</th>\n",
       "      <th>cancellation_policy_strict_14_with_grace_period</th>\n",
       "      <th>check_in_24h_1.0</th>\n",
       "      <th>check_in_24h_unknown</th>\n",
       "      <th>time_since_first_review_0-6 months</th>\n",
       "      <th>time_since_first_review_1-2 years</th>\n",
       "      <th>time_since_first_review_2-3 years</th>\n",
       "      <th>time_since_first_review_4+ years</th>\n",
       "      <th>time_since_first_review_6-12 months</th>\n",
       "      <th>time_since_last_review_0-2 weeks</th>\n",
       "      <th>time_since_last_review_1+ year</th>\n",
       "      <th>time_since_last_review_2-6 months</th>\n",
       "      <th>time_since_last_review_2-8 weeks</th>\n",
       "      <th>time_since_last_review_6-12 months</th>\n",
       "      <th>Score_Amenities</th>\n",
       "      <th>Score_Sights</th>\n",
       "      <th>Score_Parks</th>\n",
       "    </tr>\n",
       "    <tr>\n",
       "      <th>id</th>\n",
       "      <th></th>\n",
       "      <th></th>\n",
       "      <th></th>\n",
       "      <th></th>\n",
       "      <th></th>\n",
       "      <th></th>\n",
       "      <th></th>\n",
       "      <th></th>\n",
       "      <th></th>\n",
       "      <th></th>\n",
       "      <th></th>\n",
       "      <th></th>\n",
       "      <th></th>\n",
       "      <th></th>\n",
       "      <th></th>\n",
       "      <th></th>\n",
       "      <th></th>\n",
       "      <th></th>\n",
       "      <th></th>\n",
       "      <th></th>\n",
       "      <th></th>\n",
       "      <th></th>\n",
       "      <th></th>\n",
       "      <th></th>\n",
       "      <th></th>\n",
       "      <th></th>\n",
       "      <th></th>\n",
       "      <th></th>\n",
       "      <th></th>\n",
       "      <th></th>\n",
       "      <th></th>\n",
       "      <th></th>\n",
       "      <th></th>\n",
       "      <th></th>\n",
       "      <th></th>\n",
       "      <th></th>\n",
       "      <th></th>\n",
       "      <th></th>\n",
       "      <th></th>\n",
       "      <th></th>\n",
       "      <th></th>\n",
       "      <th></th>\n",
       "      <th></th>\n",
       "      <th></th>\n",
       "      <th></th>\n",
       "      <th></th>\n",
       "      <th></th>\n",
       "      <th></th>\n",
       "      <th></th>\n",
       "      <th></th>\n",
       "      <th></th>\n",
       "      <th></th>\n",
       "      <th></th>\n",
       "      <th></th>\n",
       "      <th></th>\n",
       "      <th></th>\n",
       "      <th></th>\n",
       "      <th></th>\n",
       "      <th></th>\n",
       "      <th></th>\n",
       "      <th></th>\n",
       "      <th></th>\n",
       "      <th></th>\n",
       "      <th></th>\n",
       "      <th></th>\n",
       "      <th></th>\n",
       "      <th></th>\n",
       "      <th></th>\n",
       "      <th></th>\n",
       "      <th></th>\n",
       "      <th></th>\n",
       "      <th></th>\n",
       "      <th></th>\n",
       "      <th></th>\n",
       "      <th></th>\n",
       "      <th></th>\n",
       "      <th></th>\n",
       "      <th></th>\n",
       "      <th></th>\n",
       "      <th></th>\n",
       "      <th></th>\n",
       "      <th></th>\n",
       "      <th></th>\n",
       "      <th></th>\n",
       "      <th></th>\n",
       "      <th></th>\n",
       "      <th></th>\n",
       "      <th></th>\n",
       "      <th></th>\n",
       "      <th></th>\n",
       "      <th></th>\n",
       "      <th></th>\n",
       "      <th></th>\n",
       "      <th></th>\n",
       "      <th></th>\n",
       "      <th></th>\n",
       "      <th></th>\n",
       "    </tr>\n",
       "  </thead>\n",
       "  <tbody>\n",
       "    <tr>\n",
       "      <th>2015</th>\n",
       "      <td>1.0</td>\n",
       "      <td>1.386294</td>\n",
       "      <td>1.0</td>\n",
       "      <td>52.534537</td>\n",
       "      <td>13.402557</td>\n",
       "      <td>1.098612</td>\n",
       "      <td>0.0</td>\n",
       "      <td>4.094345</td>\n",
       "      <td>5.298317</td>\n",
       "      <td>3.401197</td>\n",
       "      <td>3.332205</td>\n",
       "      <td>1.386294</td>\n",
       "      <td>7.025538</td>\n",
       "      <td>51</td>\n",
       "      <td>4.770685</td>\n",
       "      <td>0</td>\n",
       "      <td>3733.0</td>\n",
       "      <td>0.0</td>\n",
       "      <td>1.0</td>\n",
       "      <td>1.0</td>\n",
       "      <td>1.0</td>\n",
       "      <td>1.0</td>\n",
       "      <td>1.0</td>\n",
       "      <td>0.0</td>\n",
       "      <td>1.0</td>\n",
       "      <td>0.0</td>\n",
       "      <td>0.0</td>\n",
       "      <td>1.0</td>\n",
       "      <td>1.0</td>\n",
       "      <td>0.0</td>\n",
       "      <td>0.0</td>\n",
       "      <td>0.0</td>\n",
       "      <td>0</td>\n",
       "      <td>0</td>\n",
       "      <td>0</td>\n",
       "      <td>0</td>\n",
       "      <td>1</td>\n",
       "      <td>0</td>\n",
       "      <td>0</td>\n",
       "      <td>1</td>\n",
       "      <td>0</td>\n",
       "      <td>0</td>\n",
       "      <td>0</td>\n",
       "      <td>0</td>\n",
       "      <td>1</td>\n",
       "      <td>0</td>\n",
       "      <td>0</td>\n",
       "      <td>0</td>\n",
       "      <td>...</td>\n",
       "      <td>0</td>\n",
       "      <td>0</td>\n",
       "      <td>0</td>\n",
       "      <td>0</td>\n",
       "      <td>1</td>\n",
       "      <td>1</td>\n",
       "      <td>0</td>\n",
       "      <td>0</td>\n",
       "      <td>1</td>\n",
       "      <td>0</td>\n",
       "      <td>1</td>\n",
       "      <td>0</td>\n",
       "      <td>0</td>\n",
       "      <td>1</td>\n",
       "      <td>0</td>\n",
       "      <td>0</td>\n",
       "      <td>0</td>\n",
       "      <td>1</td>\n",
       "      <td>0</td>\n",
       "      <td>1</td>\n",
       "      <td>0</td>\n",
       "      <td>0</td>\n",
       "      <td>1</td>\n",
       "      <td>0</td>\n",
       "      <td>0</td>\n",
       "      <td>1</td>\n",
       "      <td>0</td>\n",
       "      <td>0</td>\n",
       "      <td>0</td>\n",
       "      <td>1</td>\n",
       "      <td>0</td>\n",
       "      <td>0</td>\n",
       "      <td>1</td>\n",
       "      <td>0</td>\n",
       "      <td>1</td>\n",
       "      <td>0</td>\n",
       "      <td>0</td>\n",
       "      <td>1</td>\n",
       "      <td>0</td>\n",
       "      <td>0</td>\n",
       "      <td>0</td>\n",
       "      <td>0</td>\n",
       "      <td>0</td>\n",
       "      <td>0</td>\n",
       "      <td>0</td>\n",
       "      <td>2.011</td>\n",
       "      <td>10.177</td>\n",
       "      <td>1.111199</td>\n",
       "    </tr>\n",
       "    <tr>\n",
       "      <th>2695</th>\n",
       "      <td>0.0</td>\n",
       "      <td>0.000000</td>\n",
       "      <td>1.0</td>\n",
       "      <td>52.548513</td>\n",
       "      <td>13.404553</td>\n",
       "      <td>0.693147</td>\n",
       "      <td>0.0</td>\n",
       "      <td>2.833213</td>\n",
       "      <td>-4.605170</td>\n",
       "      <td>-4.605170</td>\n",
       "      <td>-4.605170</td>\n",
       "      <td>0.693147</td>\n",
       "      <td>3.688879</td>\n",
       "      <td>0</td>\n",
       "      <td>1.791759</td>\n",
       "      <td>0</td>\n",
       "      <td>3704.0</td>\n",
       "      <td>0.0</td>\n",
       "      <td>0.0</td>\n",
       "      <td>0.0</td>\n",
       "      <td>0.0</td>\n",
       "      <td>0.0</td>\n",
       "      <td>1.0</td>\n",
       "      <td>1.0</td>\n",
       "      <td>0.0</td>\n",
       "      <td>0.0</td>\n",
       "      <td>0.0</td>\n",
       "      <td>1.0</td>\n",
       "      <td>0.0</td>\n",
       "      <td>0.0</td>\n",
       "      <td>0.0</td>\n",
       "      <td>0.0</td>\n",
       "      <td>0</td>\n",
       "      <td>1</td>\n",
       "      <td>0</td>\n",
       "      <td>0</td>\n",
       "      <td>0</td>\n",
       "      <td>0</td>\n",
       "      <td>0</td>\n",
       "      <td>0</td>\n",
       "      <td>0</td>\n",
       "      <td>0</td>\n",
       "      <td>0</td>\n",
       "      <td>0</td>\n",
       "      <td>0</td>\n",
       "      <td>0</td>\n",
       "      <td>1</td>\n",
       "      <td>0</td>\n",
       "      <td>...</td>\n",
       "      <td>0</td>\n",
       "      <td>0</td>\n",
       "      <td>0</td>\n",
       "      <td>0</td>\n",
       "      <td>0</td>\n",
       "      <td>0</td>\n",
       "      <td>0</td>\n",
       "      <td>0</td>\n",
       "      <td>1</td>\n",
       "      <td>0</td>\n",
       "      <td>0</td>\n",
       "      <td>1</td>\n",
       "      <td>0</td>\n",
       "      <td>1</td>\n",
       "      <td>0</td>\n",
       "      <td>0</td>\n",
       "      <td>1</td>\n",
       "      <td>0</td>\n",
       "      <td>0</td>\n",
       "      <td>1</td>\n",
       "      <td>0</td>\n",
       "      <td>0</td>\n",
       "      <td>1</td>\n",
       "      <td>0</td>\n",
       "      <td>0</td>\n",
       "      <td>1</td>\n",
       "      <td>0</td>\n",
       "      <td>0</td>\n",
       "      <td>1</td>\n",
       "      <td>0</td>\n",
       "      <td>1</td>\n",
       "      <td>0</td>\n",
       "      <td>0</td>\n",
       "      <td>0</td>\n",
       "      <td>1</td>\n",
       "      <td>1</td>\n",
       "      <td>0</td>\n",
       "      <td>0</td>\n",
       "      <td>0</td>\n",
       "      <td>0</td>\n",
       "      <td>0</td>\n",
       "      <td>0</td>\n",
       "      <td>0</td>\n",
       "      <td>0</td>\n",
       "      <td>0</td>\n",
       "      <td>3.212</td>\n",
       "      <td>14.514</td>\n",
       "      <td>1.491105</td>\n",
       "    </tr>\n",
       "    <tr>\n",
       "      <th>3176</th>\n",
       "      <td>0.0</td>\n",
       "      <td>0.000000</td>\n",
       "      <td>1.0</td>\n",
       "      <td>52.534996</td>\n",
       "      <td>13.417579</td>\n",
       "      <td>1.386294</td>\n",
       "      <td>0.0</td>\n",
       "      <td>4.499810</td>\n",
       "      <td>5.298317</td>\n",
       "      <td>3.912023</td>\n",
       "      <td>2.995732</td>\n",
       "      <td>4.127134</td>\n",
       "      <td>7.025538</td>\n",
       "      <td>0</td>\n",
       "      <td>4.962845</td>\n",
       "      <td>1</td>\n",
       "      <td>3671.0</td>\n",
       "      <td>0.0</td>\n",
       "      <td>0.0</td>\n",
       "      <td>0.0</td>\n",
       "      <td>0.0</td>\n",
       "      <td>0.0</td>\n",
       "      <td>1.0</td>\n",
       "      <td>0.0</td>\n",
       "      <td>1.0</td>\n",
       "      <td>0.0</td>\n",
       "      <td>0.0</td>\n",
       "      <td>1.0</td>\n",
       "      <td>0.0</td>\n",
       "      <td>0.0</td>\n",
       "      <td>0.0</td>\n",
       "      <td>0.0</td>\n",
       "      <td>0</td>\n",
       "      <td>0</td>\n",
       "      <td>1</td>\n",
       "      <td>0</td>\n",
       "      <td>0</td>\n",
       "      <td>1</td>\n",
       "      <td>0</td>\n",
       "      <td>0</td>\n",
       "      <td>0</td>\n",
       "      <td>0</td>\n",
       "      <td>0</td>\n",
       "      <td>0</td>\n",
       "      <td>0</td>\n",
       "      <td>0</td>\n",
       "      <td>1</td>\n",
       "      <td>0</td>\n",
       "      <td>...</td>\n",
       "      <td>0</td>\n",
       "      <td>0</td>\n",
       "      <td>0</td>\n",
       "      <td>0</td>\n",
       "      <td>0</td>\n",
       "      <td>1</td>\n",
       "      <td>0</td>\n",
       "      <td>0</td>\n",
       "      <td>1</td>\n",
       "      <td>0</td>\n",
       "      <td>1</td>\n",
       "      <td>0</td>\n",
       "      <td>0</td>\n",
       "      <td>0</td>\n",
       "      <td>1</td>\n",
       "      <td>0</td>\n",
       "      <td>0</td>\n",
       "      <td>1</td>\n",
       "      <td>0</td>\n",
       "      <td>0</td>\n",
       "      <td>1</td>\n",
       "      <td>0</td>\n",
       "      <td>0</td>\n",
       "      <td>1</td>\n",
       "      <td>0</td>\n",
       "      <td>1</td>\n",
       "      <td>0</td>\n",
       "      <td>0</td>\n",
       "      <td>0</td>\n",
       "      <td>1</td>\n",
       "      <td>0</td>\n",
       "      <td>0</td>\n",
       "      <td>1</td>\n",
       "      <td>1</td>\n",
       "      <td>0</td>\n",
       "      <td>0</td>\n",
       "      <td>0</td>\n",
       "      <td>0</td>\n",
       "      <td>1</td>\n",
       "      <td>0</td>\n",
       "      <td>0</td>\n",
       "      <td>1</td>\n",
       "      <td>0</td>\n",
       "      <td>0</td>\n",
       "      <td>0</td>\n",
       "      <td>0.626</td>\n",
       "      <td>11.891</td>\n",
       "      <td>0.753301</td>\n",
       "    </tr>\n",
       "    <tr>\n",
       "      <th>3309</th>\n",
       "      <td>0.0</td>\n",
       "      <td>0.000000</td>\n",
       "      <td>1.0</td>\n",
       "      <td>52.498855</td>\n",
       "      <td>13.349065</td>\n",
       "      <td>0.693147</td>\n",
       "      <td>0.0</td>\n",
       "      <td>3.258097</td>\n",
       "      <td>5.521461</td>\n",
       "      <td>3.401197</td>\n",
       "      <td>2.890372</td>\n",
       "      <td>1.609438</td>\n",
       "      <td>5.886104</td>\n",
       "      <td>22</td>\n",
       "      <td>3.218876</td>\n",
       "      <td>0</td>\n",
       "      <td>3652.0</td>\n",
       "      <td>0.0</td>\n",
       "      <td>1.0</td>\n",
       "      <td>0.0</td>\n",
       "      <td>1.0</td>\n",
       "      <td>0.0</td>\n",
       "      <td>1.0</td>\n",
       "      <td>0.0</td>\n",
       "      <td>0.0</td>\n",
       "      <td>1.0</td>\n",
       "      <td>1.0</td>\n",
       "      <td>1.0</td>\n",
       "      <td>1.0</td>\n",
       "      <td>1.0</td>\n",
       "      <td>0.0</td>\n",
       "      <td>0.0</td>\n",
       "      <td>0</td>\n",
       "      <td>1</td>\n",
       "      <td>0</td>\n",
       "      <td>0</td>\n",
       "      <td>0</td>\n",
       "      <td>0</td>\n",
       "      <td>0</td>\n",
       "      <td>0</td>\n",
       "      <td>0</td>\n",
       "      <td>0</td>\n",
       "      <td>0</td>\n",
       "      <td>0</td>\n",
       "      <td>0</td>\n",
       "      <td>0</td>\n",
       "      <td>0</td>\n",
       "      <td>0</td>\n",
       "      <td>...</td>\n",
       "      <td>0</td>\n",
       "      <td>1</td>\n",
       "      <td>0</td>\n",
       "      <td>0</td>\n",
       "      <td>0</td>\n",
       "      <td>0</td>\n",
       "      <td>0</td>\n",
       "      <td>1</td>\n",
       "      <td>0</td>\n",
       "      <td>0</td>\n",
       "      <td>1</td>\n",
       "      <td>0</td>\n",
       "      <td>0</td>\n",
       "      <td>0</td>\n",
       "      <td>1</td>\n",
       "      <td>0</td>\n",
       "      <td>0</td>\n",
       "      <td>1</td>\n",
       "      <td>0</td>\n",
       "      <td>0</td>\n",
       "      <td>1</td>\n",
       "      <td>0</td>\n",
       "      <td>1</td>\n",
       "      <td>0</td>\n",
       "      <td>0</td>\n",
       "      <td>0</td>\n",
       "      <td>1</td>\n",
       "      <td>0</td>\n",
       "      <td>0</td>\n",
       "      <td>1</td>\n",
       "      <td>0</td>\n",
       "      <td>0</td>\n",
       "      <td>1</td>\n",
       "      <td>0</td>\n",
       "      <td>1</td>\n",
       "      <td>0</td>\n",
       "      <td>0</td>\n",
       "      <td>0</td>\n",
       "      <td>1</td>\n",
       "      <td>0</td>\n",
       "      <td>0</td>\n",
       "      <td>0</td>\n",
       "      <td>0</td>\n",
       "      <td>0</td>\n",
       "      <td>0</td>\n",
       "      <td>2.454</td>\n",
       "      <td>10.662</td>\n",
       "      <td>1.144223</td>\n",
       "    </tr>\n",
       "    <tr>\n",
       "      <th>7071</th>\n",
       "      <td>1.0</td>\n",
       "      <td>0.000000</td>\n",
       "      <td>1.0</td>\n",
       "      <td>52.543157</td>\n",
       "      <td>13.415091</td>\n",
       "      <td>0.693147</td>\n",
       "      <td>0.0</td>\n",
       "      <td>3.737670</td>\n",
       "      <td>-4.605170</td>\n",
       "      <td>-4.605170</td>\n",
       "      <td>3.178054</td>\n",
       "      <td>0.693147</td>\n",
       "      <td>2.302585</td>\n",
       "      <td>26</td>\n",
       "      <td>5.283204</td>\n",
       "      <td>0</td>\n",
       "      <td>3462.0</td>\n",
       "      <td>0.0</td>\n",
       "      <td>1.0</td>\n",
       "      <td>0.0</td>\n",
       "      <td>0.0</td>\n",
       "      <td>0.0</td>\n",
       "      <td>0.0</td>\n",
       "      <td>0.0</td>\n",
       "      <td>1.0</td>\n",
       "      <td>0.0</td>\n",
       "      <td>0.0</td>\n",
       "      <td>1.0</td>\n",
       "      <td>0.0</td>\n",
       "      <td>0.0</td>\n",
       "      <td>0.0</td>\n",
       "      <td>0.0</td>\n",
       "      <td>0</td>\n",
       "      <td>0</td>\n",
       "      <td>0</td>\n",
       "      <td>0</td>\n",
       "      <td>1</td>\n",
       "      <td>1</td>\n",
       "      <td>0</td>\n",
       "      <td>0</td>\n",
       "      <td>0</td>\n",
       "      <td>0</td>\n",
       "      <td>0</td>\n",
       "      <td>0</td>\n",
       "      <td>0</td>\n",
       "      <td>0</td>\n",
       "      <td>1</td>\n",
       "      <td>0</td>\n",
       "      <td>...</td>\n",
       "      <td>0</td>\n",
       "      <td>0</td>\n",
       "      <td>0</td>\n",
       "      <td>0</td>\n",
       "      <td>0</td>\n",
       "      <td>0</td>\n",
       "      <td>0</td>\n",
       "      <td>0</td>\n",
       "      <td>1</td>\n",
       "      <td>0</td>\n",
       "      <td>0</td>\n",
       "      <td>1</td>\n",
       "      <td>0</td>\n",
       "      <td>1</td>\n",
       "      <td>0</td>\n",
       "      <td>0</td>\n",
       "      <td>1</td>\n",
       "      <td>0</td>\n",
       "      <td>0</td>\n",
       "      <td>1</td>\n",
       "      <td>0</td>\n",
       "      <td>0</td>\n",
       "      <td>1</td>\n",
       "      <td>0</td>\n",
       "      <td>0</td>\n",
       "      <td>1</td>\n",
       "      <td>0</td>\n",
       "      <td>0</td>\n",
       "      <td>0</td>\n",
       "      <td>1</td>\n",
       "      <td>0</td>\n",
       "      <td>1</td>\n",
       "      <td>0</td>\n",
       "      <td>0</td>\n",
       "      <td>1</td>\n",
       "      <td>0</td>\n",
       "      <td>0</td>\n",
       "      <td>0</td>\n",
       "      <td>1</td>\n",
       "      <td>0</td>\n",
       "      <td>0</td>\n",
       "      <td>0</td>\n",
       "      <td>0</td>\n",
       "      <td>0</td>\n",
       "      <td>0</td>\n",
       "      <td>0.993</td>\n",
       "      <td>10.348</td>\n",
       "      <td>-1.269401</td>\n",
       "    </tr>\n",
       "  </tbody>\n",
       "</table>\n",
       "<p>5 rows × 97 columns</p>\n",
       "</div>"
      ],
      "text/plain": [
       "      host_is_superhost  host_listings_count  host_identity_verified  \\\n",
       "id                                                                     \n",
       "2015                1.0             1.386294                     1.0   \n",
       "2695                0.0             0.000000                     1.0   \n",
       "3176                0.0             0.000000                     1.0   \n",
       "3309                0.0             0.000000                     1.0   \n",
       "7071                1.0             0.000000                     1.0   \n",
       "\n",
       "       latitude  longitude  accommodates  bathrooms     price  \\\n",
       "id                                                              \n",
       "2015  52.534537  13.402557      1.098612        0.0  4.094345   \n",
       "2695  52.548513  13.404553      0.693147        0.0  2.833213   \n",
       "3176  52.534996  13.417579      1.386294        0.0  4.499810   \n",
       "3309  52.498855  13.349065      0.693147        0.0  3.258097   \n",
       "7071  52.543157  13.415091      0.693147        0.0  3.737670   \n",
       "\n",
       "      security_deposit  cleaning_fee  extra_people  minimum_nights  \\\n",
       "id                                                                   \n",
       "2015          5.298317      3.401197      3.332205        1.386294   \n",
       "2695         -4.605170     -4.605170     -4.605170        0.693147   \n",
       "3176          5.298317      3.912023      2.995732        4.127134   \n",
       "3309          5.521461      3.401197      2.890372        1.609438   \n",
       "7071         -4.605170     -4.605170      3.178054        0.693147   \n",
       "\n",
       "      maximum_nights  availability_90  number_of_reviews  instant_bookable  \\\n",
       "id                                                                           \n",
       "2015        7.025538               51           4.770685                 0   \n",
       "2695        3.688879                0           1.791759                 0   \n",
       "3176        7.025538                0           4.962845                 1   \n",
       "3309        5.886104               22           3.218876                 0   \n",
       "7071        2.302585               26           5.283204                 0   \n",
       "\n",
       "      host_days_active  balcony  bed_linen   tv  coffee_machine  \\\n",
       "id                                                                \n",
       "2015            3733.0      0.0        1.0  1.0             1.0   \n",
       "2695            3704.0      0.0        0.0  0.0             0.0   \n",
       "3176            3671.0      0.0        0.0  0.0             0.0   \n",
       "3309            3652.0      0.0        1.0  0.0             1.0   \n",
       "7071            3462.0      0.0        1.0  0.0             0.0   \n",
       "\n",
       "      cooking_basics  white_goods  elevator  child_friendly  parking  \\\n",
       "id                                                                     \n",
       "2015             1.0          1.0       0.0             1.0      0.0   \n",
       "2695             0.0          1.0       1.0             0.0      0.0   \n",
       "3176             0.0          1.0       0.0             1.0      0.0   \n",
       "3309             0.0          1.0       0.0             0.0      1.0   \n",
       "7071             0.0          0.0       0.0             1.0      0.0   \n",
       "\n",
       "      host_greeting  internet  long_term_stays  pets_allowed  \\\n",
       "id                                                             \n",
       "2015            0.0       1.0              1.0           0.0   \n",
       "2695            0.0       1.0              0.0           0.0   \n",
       "3176            0.0       1.0              0.0           0.0   \n",
       "3309            1.0       1.0              1.0           1.0   \n",
       "7071            0.0       1.0              0.0           0.0   \n",
       "\n",
       "      private_entrance  smoking_allowed  \\\n",
       "id                                        \n",
       "2015               0.0              0.0   \n",
       "2695               0.0              0.0   \n",
       "3176               0.0              0.0   \n",
       "3309               0.0              0.0   \n",
       "7071               0.0              0.0   \n",
       "\n",
       "      host_response_time_a few days or more  host_response_time_unknown  \\\n",
       "id                                                                        \n",
       "2015                                      0                           0   \n",
       "2695                                      0                           1   \n",
       "3176                                      0                           0   \n",
       "3309                                      0                           1   \n",
       "7071                                      0                           0   \n",
       "\n",
       "      host_response_time_within a day  host_response_time_within a few hours  \\\n",
       "id                                                                             \n",
       "2015                                0                                      0   \n",
       "2695                                0                                      0   \n",
       "3176                                1                                      0   \n",
       "3309                                0                                      0   \n",
       "7071                                0                                      0   \n",
       "\n",
       "      host_response_time_within an hour  host_response_rate_100%  \\\n",
       "id                                                                 \n",
       "2015                                  1                        0   \n",
       "2695                                  0                        0   \n",
       "3176                                  0                        1   \n",
       "3309                                  0                        0   \n",
       "7071                                  1                        1   \n",
       "\n",
       "      host_response_rate_50-89%  host_response_rate_90-99%  \\\n",
       "id                                                           \n",
       "2015                          0                          1   \n",
       "2695                          0                          0   \n",
       "3176                          0                          0   \n",
       "3309                          0                          0   \n",
       "7071                          0                          0   \n",
       "\n",
       "      neighbourhood_group_cleansed_Charlottenburg-Wilm.  \\\n",
       "id                                                        \n",
       "2015                                                  0   \n",
       "2695                                                  0   \n",
       "3176                                                  0   \n",
       "3309                                                  0   \n",
       "7071                                                  0   \n",
       "\n",
       "      neighbourhood_group_cleansed_Friedrichshain-Kreuzberg  \\\n",
       "id                                                            \n",
       "2015                                                  0       \n",
       "2695                                                  0       \n",
       "3176                                                  0       \n",
       "3309                                                  0       \n",
       "7071                                                  0       \n",
       "\n",
       "      neighbourhood_group_cleansed_Lichtenberg  \\\n",
       "id                                               \n",
       "2015                                         0   \n",
       "2695                                         0   \n",
       "3176                                         0   \n",
       "3309                                         0   \n",
       "7071                                         0   \n",
       "\n",
       "      neighbourhood_group_cleansed_Marzahn - Hellersdorf  \\\n",
       "id                                                         \n",
       "2015                                                  0    \n",
       "2695                                                  0    \n",
       "3176                                                  0    \n",
       "3309                                                  0    \n",
       "7071                                                  0    \n",
       "\n",
       "      neighbourhood_group_cleansed_Mitte  \\\n",
       "id                                         \n",
       "2015                                   1   \n",
       "2695                                   0   \n",
       "3176                                   0   \n",
       "3309                                   0   \n",
       "7071                                   0   \n",
       "\n",
       "      neighbourhood_group_cleansed_Neukölln  \\\n",
       "id                                            \n",
       "2015                                      0   \n",
       "2695                                      0   \n",
       "3176                                      0   \n",
       "3309                                      0   \n",
       "7071                                      0   \n",
       "\n",
       "      neighbourhood_group_cleansed_Pankow  \\\n",
       "id                                          \n",
       "2015                                    0   \n",
       "2695                                    1   \n",
       "3176                                    1   \n",
       "3309                                    0   \n",
       "7071                                    1   \n",
       "\n",
       "      neighbourhood_group_cleansed_Reinickendorf  ...  \\\n",
       "id                                                ...   \n",
       "2015                                           0  ...   \n",
       "2695                                           0  ...   \n",
       "3176                                           0  ...   \n",
       "3309                                           0  ...   \n",
       "7071                                           0  ...   \n",
       "\n",
       "      neighbourhood_group_cleansed_Steglitz - Zehlendorf  \\\n",
       "id                                                         \n",
       "2015                                                  0    \n",
       "2695                                                  0    \n",
       "3176                                                  0    \n",
       "3309                                                  0    \n",
       "7071                                                  0    \n",
       "\n",
       "      neighbourhood_group_cleansed_Tempelhof - Schöneberg  \\\n",
       "id                                                          \n",
       "2015                                                  0     \n",
       "2695                                                  0     \n",
       "3176                                                  0     \n",
       "3309                                                  1     \n",
       "7071                                                  0     \n",
       "\n",
       "      neighbourhood_group_cleansed_Treptow - Köpenick  property_type_House  \\\n",
       "id                                                                           \n",
       "2015                                                0                    0   \n",
       "2695                                                0                    0   \n",
       "3176                                                0                    0   \n",
       "3309                                                0                    0   \n",
       "7071                                                0                    0   \n",
       "\n",
       "      property_type_Other  room_type_Entire home/apt  room_type_Shared room  \\\n",
       "id                                                                            \n",
       "2015                    1                          1                      0   \n",
       "2695                    0                          0                      0   \n",
       "3176                    0                          1                      0   \n",
       "3309                    0                          0                      0   \n",
       "7071                    0                          0                      0   \n",
       "\n",
       "      bed_type_Couch  bed_type_Real Bed  review_scores_rating_0-79/100  \\\n",
       "id                                                                       \n",
       "2015               0                  1                              0   \n",
       "2695               0                  1                              0   \n",
       "3176               0                  1                              0   \n",
       "3309               1                  0                              0   \n",
       "7071               0                  1                              0   \n",
       "\n",
       "      review_scores_rating_80-94/100  review_scores_rating_95-100/100  \\\n",
       "id                                                                      \n",
       "2015                               1                                0   \n",
       "2695                               0                                1   \n",
       "3176                               1                                0   \n",
       "3309                               1                                0   \n",
       "7071                               0                                1   \n",
       "\n",
       "      review_scores_accuracy_0-8/10  review_scores_accuracy_10/10  \\\n",
       "id                                                                  \n",
       "2015                              0                             1   \n",
       "2695                              0                             1   \n",
       "3176                              0                             0   \n",
       "3309                              0                             0   \n",
       "7071                              0                             1   \n",
       "\n",
       "      review_scores_accuracy_9/10  review_scores_cleanliness_0-8/10  \\\n",
       "id                                                                    \n",
       "2015                            0                                 0   \n",
       "2695                            0                                 0   \n",
       "3176                            1                                 0   \n",
       "3309                            1                                 0   \n",
       "7071                            0                                 0   \n",
       "\n",
       "      review_scores_cleanliness_10/10  review_scores_cleanliness_9/10  \\\n",
       "id                                                                      \n",
       "2015                                0                               1   \n",
       "2695                                1                               0   \n",
       "3176                                0                               1   \n",
       "3309                                0                               1   \n",
       "7071                                1                               0   \n",
       "\n",
       "      review_scores_checkin_0-8/10  review_scores_checkin_10/10  \\\n",
       "id                                                                \n",
       "2015                             0                            1   \n",
       "2695                             0                            1   \n",
       "3176                             0                            0   \n",
       "3309                             0                            0   \n",
       "7071                             0                            1   \n",
       "\n",
       "      review_scores_checkin_9/10  review_scores_communication_0-8/10  \\\n",
       "id                                                                     \n",
       "2015                           0                                   0   \n",
       "2695                           0                                   0   \n",
       "3176                           1                                   0   \n",
       "3309                           1                                   0   \n",
       "7071                           0                                   0   \n",
       "\n",
       "      review_scores_communication_10/10  review_scores_communication_9/10  \\\n",
       "id                                                                          \n",
       "2015                                  1                                 0   \n",
       "2695                                  1                                 0   \n",
       "3176                                  0                                 1   \n",
       "3309                                  1                                 0   \n",
       "7071                                  1                                 0   \n",
       "\n",
       "      review_scores_location_0-8/10  review_scores_location_10/10  \\\n",
       "id                                                                  \n",
       "2015                              0                             1   \n",
       "2695                              0                             1   \n",
       "3176                              0                             1   \n",
       "3309                              0                             0   \n",
       "7071                              0                             1   \n",
       "\n",
       "      review_scores_location_9/10  review_scores_value_0-8/10  \\\n",
       "id                                                              \n",
       "2015                            0                           0   \n",
       "2695                            0                           0   \n",
       "3176                            0                           0   \n",
       "3309                            1                           0   \n",
       "7071                            0                           0   \n",
       "\n",
       "      review_scores_value_10/10  review_scores_value_9/10  \\\n",
       "id                                                          \n",
       "2015                          0                         1   \n",
       "2695                          1                         0   \n",
       "3176                          0                         1   \n",
       "3309                          0                         1   \n",
       "7071                          0                         1   \n",
       "\n",
       "      cancellation_policy_flexible  cancellation_policy_moderate  \\\n",
       "id                                                                 \n",
       "2015                             0                             0   \n",
       "2695                             1                             0   \n",
       "3176                             0                             0   \n",
       "3309                             0                             0   \n",
       "7071                             0                             1   \n",
       "\n",
       "      cancellation_policy_strict_14_with_grace_period  check_in_24h_1.0  \\\n",
       "id                                                                        \n",
       "2015                                                1                 0   \n",
       "2695                                                0                 0   \n",
       "3176                                                1                 1   \n",
       "3309                                                1                 0   \n",
       "7071                                                0                 0   \n",
       "\n",
       "      check_in_24h_unknown  time_since_first_review_0-6 months  \\\n",
       "id                                                               \n",
       "2015                     1                                   0   \n",
       "2695                     1                                   1   \n",
       "3176                     0                                   0   \n",
       "3309                     1                                   0   \n",
       "7071                     1                                   0   \n",
       "\n",
       "      time_since_first_review_1-2 years  time_since_first_review_2-3 years  \\\n",
       "id                                                                           \n",
       "2015                                  0                                  1   \n",
       "2695                                  0                                  0   \n",
       "3176                                  0                                  0   \n",
       "3309                                  0                                  0   \n",
       "7071                                  0                                  0   \n",
       "\n",
       "      time_since_first_review_4+ years  time_since_first_review_6-12 months  \\\n",
       "id                                                                            \n",
       "2015                                 0                                    0   \n",
       "2695                                 0                                    0   \n",
       "3176                                 1                                    0   \n",
       "3309                                 1                                    0   \n",
       "7071                                 1                                    0   \n",
       "\n",
       "      time_since_last_review_0-2 weeks  time_since_last_review_1+ year  \\\n",
       "id                                                                       \n",
       "2015                                 0                               0   \n",
       "2695                                 0                               0   \n",
       "3176                                 0                               1   \n",
       "3309                                 0                               0   \n",
       "7071                                 0                               0   \n",
       "\n",
       "      time_since_last_review_2-6 months  time_since_last_review_2-8 weeks  \\\n",
       "id                                                                          \n",
       "2015                                  0                                 0   \n",
       "2695                                  0                                 0   \n",
       "3176                                  0                                 0   \n",
       "3309                                  0                                 0   \n",
       "7071                                  0                                 0   \n",
       "\n",
       "      time_since_last_review_6-12 months  Score_Amenities  Score_Sights  \\\n",
       "id                                                                        \n",
       "2015                                   0            2.011        10.177   \n",
       "2695                                   0            3.212        14.514   \n",
       "3176                                   0            0.626        11.891   \n",
       "3309                                   0            2.454        10.662   \n",
       "7071                                   0            0.993        10.348   \n",
       "\n",
       "      Score_Parks  \n",
       "id                 \n",
       "2015     1.111199  \n",
       "2695     1.491105  \n",
       "3176     0.753301  \n",
       "3309     1.144223  \n",
       "7071    -1.269401  \n",
       "\n",
       "[5 rows x 97 columns]"
      ]
     },
     "execution_count": 305,
     "metadata": {},
     "output_type": "execute_result"
    }
   ],
   "source": [
    "# set index to id an get rid of useless index\n",
    "df_model = pd.read_csv('listings_normalized.csv', index_col=2)\n",
    "df_model.drop(['Unnamed: 0', 'Unnamed: 0.1'], axis =1, inplace = True)\n",
    "\n",
    "df_model.head()\n"
   ]
  },
  {
   "cell_type": "code",
   "execution_count": 307,
   "metadata": {},
   "outputs": [
    {
     "data": {
      "text/plain": [
       "host_is_superhost                                        float64\n",
       "host_listings_count                                      float64\n",
       "host_identity_verified                                   float64\n",
       "latitude                                                 float64\n",
       "longitude                                                float64\n",
       "accommodates                                             float64\n",
       "bathrooms                                                float64\n",
       "price                                                    float64\n",
       "security_deposit                                         float64\n",
       "cleaning_fee                                             float64\n",
       "extra_people                                             float64\n",
       "minimum_nights                                           float64\n",
       "maximum_nights                                           float64\n",
       "availability_90                                            int64\n",
       "number_of_reviews                                        float64\n",
       "instant_bookable                                           int64\n",
       "host_days_active                                         float64\n",
       "balcony                                                  float64\n",
       "bed_linen                                                float64\n",
       "tv                                                       float64\n",
       "coffee_machine                                           float64\n",
       "cooking_basics                                           float64\n",
       "white_goods                                              float64\n",
       "elevator                                                 float64\n",
       "child_friendly                                           float64\n",
       "parking                                                  float64\n",
       "host_greeting                                            float64\n",
       "internet                                                 float64\n",
       "long_term_stays                                          float64\n",
       "pets_allowed                                             float64\n",
       "private_entrance                                         float64\n",
       "smoking_allowed                                          float64\n",
       "host_response_time_a few days or more                      int64\n",
       "host_response_time_unknown                                 int64\n",
       "host_response_time_within a day                            int64\n",
       "host_response_time_within a few hours                      int64\n",
       "host_response_time_within an hour                          int64\n",
       "host_response_rate_100%                                    int64\n",
       "host_response_rate_50-89%                                  int64\n",
       "host_response_rate_90-99%                                  int64\n",
       "neighbourhood_group_cleansed_Charlottenburg-Wilm.          int64\n",
       "neighbourhood_group_cleansed_Friedrichshain-Kreuzberg      int64\n",
       "neighbourhood_group_cleansed_Lichtenberg                   int64\n",
       "neighbourhood_group_cleansed_Marzahn - Hellersdorf         int64\n",
       "neighbourhood_group_cleansed_Mitte                         int64\n",
       "neighbourhood_group_cleansed_Neukölln                      int64\n",
       "neighbourhood_group_cleansed_Pankow                        int64\n",
       "neighbourhood_group_cleansed_Reinickendorf                 int64\n",
       "neighbourhood_group_cleansed_Spandau                       int64\n",
       "neighbourhood_group_cleansed_Steglitz - Zehlendorf         int64\n",
       "neighbourhood_group_cleansed_Tempelhof - Schöneberg        int64\n",
       "neighbourhood_group_cleansed_Treptow - Köpenick            int64\n",
       "property_type_House                                        int64\n",
       "property_type_Other                                        int64\n",
       "room_type_Entire home/apt                                  int64\n",
       "room_type_Shared room                                      int64\n",
       "bed_type_Couch                                             int64\n",
       "bed_type_Real Bed                                          int64\n",
       "review_scores_rating_0-79/100                              int64\n",
       "review_scores_rating_80-94/100                             int64\n",
       "review_scores_rating_95-100/100                            int64\n",
       "review_scores_accuracy_0-8/10                              int64\n",
       "review_scores_accuracy_10/10                               int64\n",
       "review_scores_accuracy_9/10                                int64\n",
       "review_scores_cleanliness_0-8/10                           int64\n",
       "review_scores_cleanliness_10/10                            int64\n",
       "review_scores_cleanliness_9/10                             int64\n",
       "review_scores_checkin_0-8/10                               int64\n",
       "review_scores_checkin_10/10                                int64\n",
       "review_scores_checkin_9/10                                 int64\n",
       "review_scores_communication_0-8/10                         int64\n",
       "review_scores_communication_10/10                          int64\n",
       "review_scores_communication_9/10                           int64\n",
       "review_scores_location_0-8/10                              int64\n",
       "review_scores_location_10/10                               int64\n",
       "review_scores_location_9/10                                int64\n",
       "review_scores_value_0-8/10                                 int64\n",
       "review_scores_value_10/10                                  int64\n",
       "review_scores_value_9/10                                   int64\n",
       "cancellation_policy_flexible                               int64\n",
       "cancellation_policy_moderate                               int64\n",
       "cancellation_policy_strict_14_with_grace_period            int64\n",
       "check_in_24h_1.0                                           int64\n",
       "check_in_24h_unknown                                       int64\n",
       "time_since_first_review_0-6 months                         int64\n",
       "time_since_first_review_1-2 years                          int64\n",
       "time_since_first_review_2-3 years                          int64\n",
       "time_since_first_review_4+ years                           int64\n",
       "time_since_first_review_6-12 months                        int64\n",
       "time_since_last_review_0-2 weeks                           int64\n",
       "time_since_last_review_1+ year                             int64\n",
       "time_since_last_review_2-6 months                          int64\n",
       "time_since_last_review_2-8 weeks                           int64\n",
       "time_since_last_review_6-12 months                         int64\n",
       "Score_Amenities                                          float64\n",
       "Score_Sights                                             float64\n",
       "Score_Parks                                              float64\n",
       "dtype: object"
      ]
     },
     "execution_count": 307,
     "metadata": {},
     "output_type": "execute_result"
    }
   ],
   "source": [
    "df_model.dtypes"
   ]
  },
  {
   "cell_type": "code",
   "execution_count": 308,
   "metadata": {},
   "outputs": [],
   "source": [
    "df_model.drop(['longitude', 'latitude'], axis=1, inplace =True)"
   ]
  },
  {
   "cell_type": "code",
   "execution_count": 309,
   "metadata": {},
   "outputs": [],
   "source": [
    "listings_model = df_model.to_csv('listings_model.csv', index=id, header=True)"
   ]
  },
  {
   "cell_type": "code",
   "execution_count": null,
   "metadata": {},
   "outputs": [],
   "source": []
  }
 ],
 "metadata": {
  "kernelspec": {
   "display_name": "Python 3",
   "language": "python",
   "name": "python3"
  },
  "language_info": {
   "codemirror_mode": {
    "name": "ipython",
    "version": 3
   },
   "file_extension": ".py",
   "mimetype": "text/x-python",
   "name": "python",
   "nbconvert_exporter": "python",
   "pygments_lexer": "ipython3",
   "version": "3.7.6"
  }
 },
 "nbformat": 4,
 "nbformat_minor": 2
}
